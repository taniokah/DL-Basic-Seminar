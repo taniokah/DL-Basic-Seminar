{
  "nbformat": 4,
  "nbformat_minor": 0,
  "metadata": {
    "colab": {
      "name": "AIプログラミング基礎講座vol4(Pythonプログラミング).ipynb",
      "provenance": [],
      "include_colab_link": true
    },
    "kernelspec": {
      "name": "python3",
      "display_name": "Python 3"
    }
  },
  "cells": [
    {
      "cell_type": "markdown",
      "metadata": {
        "id": "view-in-github",
        "colab_type": "text"
      },
      "source": [
        "<a href=\"https://colab.research.google.com/github/taniokah/DL-Basic-Seminar/blob/master/AI%E3%83%97%E3%83%AD%E3%82%B0%E3%83%A9%E3%83%9F%E3%83%B3%E3%82%B0%E5%9F%BA%E7%A4%8E%E8%AC%9B%E5%BA%A7vol4(Python%E3%83%97%E3%83%AD%E3%82%B0%E3%83%A9%E3%83%9F%E3%83%B3%E3%82%B0).ipynb\" target=\"_parent\"><img src=\"https://colab.research.google.com/assets/colab-badge.svg\" alt=\"Open In Colab\"/></a>"
      ]
    },
    {
      "cell_type": "code",
      "metadata": {
        "id": "nzxdp9ZKLG8_",
        "colab_type": "code",
        "colab": {
          "base_uri": "https://localhost:8080/",
          "height": 34
        },
        "outputId": "96944796-144d-466e-9a18-faee0441bc37"
      },
      "source": [
        "print(\"Hello, Python\")"
      ],
      "execution_count": 1,
      "outputs": [
        {
          "output_type": "stream",
          "text": [
            "Hello, Python\n"
          ],
          "name": "stdout"
        }
      ]
    },
    {
      "cell_type": "code",
      "metadata": {
        "id": "XS8RKi-7LXDg",
        "colab_type": "code",
        "colab": {
          "base_uri": "https://localhost:8080/",
          "height": 68
        },
        "outputId": "c6d3b305-6659-45cb-a584-c32208920be0"
      },
      "source": [
        "# 足し算\n",
        "a = input(\"A = \")\n",
        "b = input(\"B = \")\n",
        "A = int(a)\n",
        "B = int(b)\n",
        "print(A + B)"
      ],
      "execution_count": 2,
      "outputs": [
        {
          "output_type": "stream",
          "text": [
            "A = 1\n",
            "B = 2\n",
            "3\n"
          ],
          "name": "stdout"
        }
      ]
    },
    {
      "cell_type": "code",
      "metadata": {
        "id": "5zg1Zm7HMwZn",
        "colab_type": "code",
        "colab": {
          "base_uri": "https://localhost:8080/",
          "height": 51
        },
        "outputId": "b0d05c09-57cc-4627-d710-9f9719b999b6"
      },
      "source": [
        "# 奇数と偶数\n",
        "x = input(\"x = \")\n",
        "X = int(x)\n",
        "if X % 2 == 0:\n",
        "  print(\"偶数です\")\n",
        "else:\n",
        "  print(\"奇数です\")"
      ],
      "execution_count": 3,
      "outputs": [
        {
          "output_type": "stream",
          "text": [
            "x = 103\n",
            "奇数です\n"
          ],
          "name": "stdout"
        }
      ]
    },
    {
      "cell_type": "code",
      "metadata": {
        "id": "VdlvBhNLNOWH",
        "colab_type": "code",
        "colab": {
          "base_uri": "https://localhost:8080/",
          "height": 68
        },
        "outputId": "8af01c4e-33df-4b1e-9aba-22cc4af2d35c"
      },
      "source": [
        "# 血液型判定\n",
        "A = 0\n",
        "B = 0\n",
        "O = 0\n",
        "AB = 0\n",
        "Brad = \"A\"\n",
        "\n",
        "answer = input(\"せっかちですか？\")\n",
        "if answer == \"はい\":\n",
        "  A = A + 1\n",
        "else:\n",
        "  B = B + 1\n",
        "  AB = AB + 1\n",
        "\n",
        "answer = input(\"よく風邪をひきますか？\")\n",
        "if answer == \"はい\":\n",
        "  A = A + 1\n",
        "else:\n",
        "  AB = AB + 2\n",
        "  O = O + 2\n",
        "\n",
        "if A > B:\n",
        "  if A > AB:\n",
        "    if A > O:\n",
        "      Brad = 'A'\n",
        "if B > A:\n",
        "  if B > AB:\n",
        "    if B > O:\n",
        "      Brad = 'B'\n",
        "if AB > A:\n",
        "  if AB > B:\n",
        "    if AB > O:\n",
        "      Brad = 'O'\n",
        "if O > A:\n",
        "  if O > B:\n",
        "    if O > AB:\n",
        "      Brad = 'O'\n",
        "\n",
        "print(\"あなたは\", Brad, \"型ですね\")\n"
      ],
      "execution_count": 4,
      "outputs": [
        {
          "output_type": "stream",
          "text": [
            "せっかちですか？いいえ\n",
            "よく風邪をひきますか？いいえ\n",
            "あなたは O 型ですね\n"
          ],
          "name": "stdout"
        }
      ]
    },
    {
      "cell_type": "code",
      "metadata": {
        "id": "ZruEd-xmNmf6",
        "colab_type": "code",
        "colab": {
          "base_uri": "https://localhost:8080/",
          "height": 34
        },
        "outputId": "a6ee3e35-6557-4788-df9c-0ddc5bdf98ee"
      },
      "source": [
        "import tensorflow as tf\n",
        "hello = tf.constant('Hello, TensorFlow!')\n",
        "sess = tf.Session()\n",
        "print(sess.run(hello))\n",
        "sess.close()"
      ],
      "execution_count": 5,
      "outputs": [
        {
          "output_type": "stream",
          "text": [
            "b'Hello, TensorFlow!'\n"
          ],
          "name": "stdout"
        }
      ]
    },
    {
      "cell_type": "code",
      "metadata": {
        "id": "8tm9HYPqsapx",
        "colab_type": "code",
        "colab": {
          "base_uri": "https://localhost:8080/",
          "height": 1000
        },
        "outputId": "e5e5c942-111c-4fd6-a99c-aa38ef188147"
      },
      "source": [
        "from keras.models import Sequential\n",
        "from keras.layers import Dense, Activation\n",
        "from keras.utils import np_utils\n",
        "import numpy as np\n",
        "\n",
        "# ダミーデータ\n",
        "data = np.random.random((1000, 784))\n",
        "labels = np.random.randint(10, size=(1000, 1))\n",
        "labels = np_utils.to_categorical(labels, 10)\n",
        "\n",
        "model = Sequential()\n",
        "model.add(Dense(64, activation='relu', input_dim=784))\n",
        "model.add(Dense(64, activation='relu'))\n",
        "model.add(Dense(10, activation='softmax'))\n",
        "\n",
        "# モデルのコンパイル\n",
        "model.compile(optimizer='rmsprop', \n",
        "             loss='categorical_crossentropy', \n",
        "             metrics=['accuracy'])\n",
        "\n",
        "# 学習を行う\n",
        "model.fit(data, labels, epochs=100, batch_size=10)"
      ],
      "execution_count": 6,
      "outputs": [
        {
          "output_type": "stream",
          "text": [
            "WARNING:tensorflow:From /usr/local/lib/python3.6/dist-packages/keras/backend/tensorflow_backend.py:66: The name tf.get_default_graph is deprecated. Please use tf.compat.v1.get_default_graph instead.\n",
            "\n",
            "WARNING:tensorflow:From /usr/local/lib/python3.6/dist-packages/keras/backend/tensorflow_backend.py:541: The name tf.placeholder is deprecated. Please use tf.compat.v1.placeholder instead.\n",
            "\n",
            "WARNING:tensorflow:From /usr/local/lib/python3.6/dist-packages/keras/backend/tensorflow_backend.py:4432: The name tf.random_uniform is deprecated. Please use tf.random.uniform instead.\n",
            "\n",
            "WARNING:tensorflow:From /usr/local/lib/python3.6/dist-packages/keras/optimizers.py:793: The name tf.train.Optimizer is deprecated. Please use tf.compat.v1.train.Optimizer instead.\n",
            "\n",
            "WARNING:tensorflow:From /usr/local/lib/python3.6/dist-packages/keras/backend/tensorflow_backend.py:3576: The name tf.log is deprecated. Please use tf.math.log instead.\n",
            "\n"
          ],
          "name": "stdout"
        },
        {
          "output_type": "stream",
          "text": [
            "Using TensorFlow backend.\n"
          ],
          "name": "stderr"
        },
        {
          "output_type": "stream",
          "text": [
            "WARNING:tensorflow:From /usr/local/lib/python3.6/dist-packages/tensorflow_core/python/ops/math_grad.py:1424: where (from tensorflow.python.ops.array_ops) is deprecated and will be removed in a future version.\n",
            "Instructions for updating:\n",
            "Use tf.where in 2.0, which has the same broadcast rule as np.where\n",
            "WARNING:tensorflow:From /usr/local/lib/python3.6/dist-packages/keras/backend/tensorflow_backend.py:1033: The name tf.assign_add is deprecated. Please use tf.compat.v1.assign_add instead.\n",
            "\n",
            "WARNING:tensorflow:From /usr/local/lib/python3.6/dist-packages/keras/backend/tensorflow_backend.py:1020: The name tf.assign is deprecated. Please use tf.compat.v1.assign instead.\n",
            "\n",
            "Epoch 1/100\n",
            "WARNING:tensorflow:From /usr/local/lib/python3.6/dist-packages/keras/backend/tensorflow_backend.py:190: The name tf.get_default_session is deprecated. Please use tf.compat.v1.get_default_session instead.\n",
            "\n",
            "WARNING:tensorflow:From /usr/local/lib/python3.6/dist-packages/keras/backend/tensorflow_backend.py:197: The name tf.ConfigProto is deprecated. Please use tf.compat.v1.ConfigProto instead.\n",
            "\n",
            "WARNING:tensorflow:From /usr/local/lib/python3.6/dist-packages/keras/backend/tensorflow_backend.py:207: The name tf.global_variables is deprecated. Please use tf.compat.v1.global_variables instead.\n",
            "\n",
            "WARNING:tensorflow:From /usr/local/lib/python3.6/dist-packages/keras/backend/tensorflow_backend.py:216: The name tf.is_variable_initialized is deprecated. Please use tf.compat.v1.is_variable_initialized instead.\n",
            "\n",
            "WARNING:tensorflow:From /usr/local/lib/python3.6/dist-packages/keras/backend/tensorflow_backend.py:223: The name tf.variables_initializer is deprecated. Please use tf.compat.v1.variables_initializer instead.\n",
            "\n",
            "1000/1000 [==============================] - 0s 335us/step - loss: 2.3750 - acc: 0.0740\n",
            "Epoch 2/100\n",
            "1000/1000 [==============================] - 0s 177us/step - loss: 2.3230 - acc: 0.1040\n",
            "Epoch 3/100\n",
            "1000/1000 [==============================] - 0s 172us/step - loss: 2.2966 - acc: 0.1230\n",
            "Epoch 4/100\n",
            "1000/1000 [==============================] - 0s 178us/step - loss: 2.2694 - acc: 0.1500\n",
            "Epoch 5/100\n",
            "1000/1000 [==============================] - 0s 175us/step - loss: 2.2268 - acc: 0.1760\n",
            "Epoch 6/100\n",
            "1000/1000 [==============================] - 0s 185us/step - loss: 2.1888 - acc: 0.2030\n",
            "Epoch 7/100\n",
            "1000/1000 [==============================] - 0s 183us/step - loss: 2.1312 - acc: 0.2170\n",
            "Epoch 8/100\n",
            "1000/1000 [==============================] - 0s 179us/step - loss: 2.0553 - acc: 0.2790\n",
            "Epoch 9/100\n",
            "1000/1000 [==============================] - 0s 180us/step - loss: 1.9809 - acc: 0.3200\n",
            "Epoch 10/100\n",
            "1000/1000 [==============================] - 0s 175us/step - loss: 1.8942 - acc: 0.3320\n",
            "Epoch 11/100\n",
            "1000/1000 [==============================] - 0s 181us/step - loss: 1.7984 - acc: 0.3820\n",
            "Epoch 12/100\n",
            "1000/1000 [==============================] - 0s 183us/step - loss: 1.6770 - acc: 0.4340\n",
            "Epoch 13/100\n",
            "1000/1000 [==============================] - 0s 190us/step - loss: 1.5837 - acc: 0.4780\n",
            "Epoch 14/100\n",
            "1000/1000 [==============================] - 0s 207us/step - loss: 1.4826 - acc: 0.5000\n",
            "Epoch 15/100\n",
            "1000/1000 [==============================] - 0s 184us/step - loss: 1.3912 - acc: 0.5400\n",
            "Epoch 16/100\n",
            "1000/1000 [==============================] - 0s 194us/step - loss: 1.3026 - acc: 0.5810\n",
            "Epoch 17/100\n",
            "1000/1000 [==============================] - 0s 191us/step - loss: 1.2243 - acc: 0.6020\n",
            "Epoch 18/100\n",
            "1000/1000 [==============================] - 0s 187us/step - loss: 1.1142 - acc: 0.6370\n",
            "Epoch 19/100\n",
            "1000/1000 [==============================] - 0s 188us/step - loss: 1.0409 - acc: 0.6600\n",
            "Epoch 20/100\n",
            "1000/1000 [==============================] - 0s 174us/step - loss: 0.9565 - acc: 0.6840\n",
            "Epoch 21/100\n",
            "1000/1000 [==============================] - 0s 172us/step - loss: 0.9037 - acc: 0.7050\n",
            "Epoch 22/100\n",
            "1000/1000 [==============================] - 0s 163us/step - loss: 0.8113 - acc: 0.7520\n",
            "Epoch 23/100\n",
            "1000/1000 [==============================] - 0s 170us/step - loss: 0.7803 - acc: 0.7470\n",
            "Epoch 24/100\n",
            "1000/1000 [==============================] - 0s 165us/step - loss: 0.6952 - acc: 0.7890\n",
            "Epoch 25/100\n",
            "1000/1000 [==============================] - 0s 165us/step - loss: 0.6448 - acc: 0.8060\n",
            "Epoch 26/100\n",
            "1000/1000 [==============================] - 0s 178us/step - loss: 0.5924 - acc: 0.8100\n",
            "Epoch 27/100\n",
            "1000/1000 [==============================] - 0s 173us/step - loss: 0.5569 - acc: 0.8240\n",
            "Epoch 28/100\n",
            "1000/1000 [==============================] - 0s 169us/step - loss: 0.4974 - acc: 0.8440\n",
            "Epoch 29/100\n",
            "1000/1000 [==============================] - 0s 185us/step - loss: 0.4677 - acc: 0.8590\n",
            "Epoch 30/100\n",
            "1000/1000 [==============================] - 0s 176us/step - loss: 0.4130 - acc: 0.8770\n",
            "Epoch 31/100\n",
            "1000/1000 [==============================] - 0s 174us/step - loss: 0.3791 - acc: 0.8900\n",
            "Epoch 32/100\n",
            "1000/1000 [==============================] - 0s 172us/step - loss: 0.3036 - acc: 0.9090\n",
            "Epoch 33/100\n",
            "1000/1000 [==============================] - 0s 174us/step - loss: 0.3237 - acc: 0.9000\n",
            "Epoch 34/100\n",
            "1000/1000 [==============================] - 0s 192us/step - loss: 0.2862 - acc: 0.9250\n",
            "Epoch 35/100\n",
            "1000/1000 [==============================] - 0s 189us/step - loss: 0.2558 - acc: 0.9280\n",
            "Epoch 36/100\n",
            "1000/1000 [==============================] - 0s 179us/step - loss: 0.2165 - acc: 0.9430\n",
            "Epoch 37/100\n",
            "1000/1000 [==============================] - 0s 190us/step - loss: 0.2063 - acc: 0.9510\n",
            "Epoch 38/100\n",
            "1000/1000 [==============================] - 0s 178us/step - loss: 0.1965 - acc: 0.9530\n",
            "Epoch 39/100\n",
            "1000/1000 [==============================] - 0s 174us/step - loss: 0.1740 - acc: 0.9510\n",
            "Epoch 40/100\n",
            "1000/1000 [==============================] - 0s 179us/step - loss: 0.1778 - acc: 0.9510\n",
            "Epoch 41/100\n",
            "1000/1000 [==============================] - 0s 176us/step - loss: 0.1393 - acc: 0.9660\n",
            "Epoch 42/100\n",
            "1000/1000 [==============================] - 0s 188us/step - loss: 0.1516 - acc: 0.9560\n",
            "Epoch 43/100\n",
            "1000/1000 [==============================] - 0s 177us/step - loss: 0.1127 - acc: 0.9690\n",
            "Epoch 44/100\n",
            "1000/1000 [==============================] - 0s 175us/step - loss: 0.1143 - acc: 0.9700\n",
            "Epoch 45/100\n",
            "1000/1000 [==============================] - 0s 178us/step - loss: 0.1257 - acc: 0.9650\n",
            "Epoch 46/100\n",
            "1000/1000 [==============================] - 0s 172us/step - loss: 0.1197 - acc: 0.9740\n",
            "Epoch 47/100\n",
            "1000/1000 [==============================] - 0s 178us/step - loss: 0.0919 - acc: 0.9740\n",
            "Epoch 48/100\n",
            "1000/1000 [==============================] - 0s 178us/step - loss: 0.0996 - acc: 0.9720\n",
            "Epoch 49/100\n",
            "1000/1000 [==============================] - 0s 183us/step - loss: 0.1079 - acc: 0.9780\n",
            "Epoch 50/100\n",
            "1000/1000 [==============================] - 0s 169us/step - loss: 0.0776 - acc: 0.9810\n",
            "Epoch 51/100\n",
            "1000/1000 [==============================] - 0s 170us/step - loss: 0.0952 - acc: 0.9740\n",
            "Epoch 52/100\n",
            "1000/1000 [==============================] - 0s 174us/step - loss: 0.0967 - acc: 0.9770\n",
            "Epoch 53/100\n",
            "1000/1000 [==============================] - 0s 172us/step - loss: 0.0861 - acc: 0.9790\n",
            "Epoch 54/100\n",
            "1000/1000 [==============================] - 0s 172us/step - loss: 0.0697 - acc: 0.9790\n",
            "Epoch 55/100\n",
            "1000/1000 [==============================] - 0s 165us/step - loss: 0.0711 - acc: 0.9760\n",
            "Epoch 56/100\n",
            "1000/1000 [==============================] - 0s 170us/step - loss: 0.1093 - acc: 0.9760\n",
            "Epoch 57/100\n",
            "1000/1000 [==============================] - 0s 169us/step - loss: 0.0629 - acc: 0.9810\n",
            "Epoch 58/100\n",
            "1000/1000 [==============================] - 0s 165us/step - loss: 0.0765 - acc: 0.9820\n",
            "Epoch 59/100\n",
            "1000/1000 [==============================] - 0s 172us/step - loss: 0.0608 - acc: 0.9860\n",
            "Epoch 60/100\n",
            "1000/1000 [==============================] - 0s 176us/step - loss: 0.0807 - acc: 0.9810\n",
            "Epoch 61/100\n",
            "1000/1000 [==============================] - 0s 186us/step - loss: 0.0851 - acc: 0.9760\n",
            "Epoch 62/100\n",
            "1000/1000 [==============================] - 0s 173us/step - loss: 0.0598 - acc: 0.9840\n",
            "Epoch 63/100\n",
            "1000/1000 [==============================] - 0s 173us/step - loss: 0.0728 - acc: 0.9820\n",
            "Epoch 64/100\n",
            "1000/1000 [==============================] - 0s 174us/step - loss: 0.0806 - acc: 0.9820\n",
            "Epoch 65/100\n",
            "1000/1000 [==============================] - 0s 180us/step - loss: 0.0575 - acc: 0.9850\n",
            "Epoch 66/100\n",
            "1000/1000 [==============================] - 0s 177us/step - loss: 0.0386 - acc: 0.9910\n",
            "Epoch 67/100\n",
            "1000/1000 [==============================] - 0s 176us/step - loss: 0.0894 - acc: 0.9760\n",
            "Epoch 68/100\n",
            "1000/1000 [==============================] - 0s 169us/step - loss: 0.0896 - acc: 0.9820\n",
            "Epoch 69/100\n",
            "1000/1000 [==============================] - 0s 168us/step - loss: 0.0592 - acc: 0.9850\n",
            "Epoch 70/100\n",
            "1000/1000 [==============================] - 0s 169us/step - loss: 0.0744 - acc: 0.9810\n",
            "Epoch 71/100\n",
            "1000/1000 [==============================] - 0s 170us/step - loss: 0.0447 - acc: 0.9910\n",
            "Epoch 72/100\n",
            "1000/1000 [==============================] - 0s 174us/step - loss: 0.1146 - acc: 0.9780\n",
            "Epoch 73/100\n",
            "1000/1000 [==============================] - 0s 187us/step - loss: 0.0576 - acc: 0.9900\n",
            "Epoch 74/100\n",
            "1000/1000 [==============================] - 0s 177us/step - loss: 0.0317 - acc: 0.9890\n",
            "Epoch 75/100\n",
            "1000/1000 [==============================] - 0s 178us/step - loss: 0.1114 - acc: 0.9780\n",
            "Epoch 76/100\n",
            "1000/1000 [==============================] - 0s 172us/step - loss: 0.0403 - acc: 0.9940\n",
            "Epoch 77/100\n",
            "1000/1000 [==============================] - 0s 175us/step - loss: 0.0400 - acc: 0.9930\n",
            "Epoch 78/100\n",
            "1000/1000 [==============================] - 0s 193us/step - loss: 0.0729 - acc: 0.9820\n",
            "Epoch 79/100\n",
            "1000/1000 [==============================] - 0s 187us/step - loss: 0.0329 - acc: 0.9920\n",
            "Epoch 80/100\n",
            "1000/1000 [==============================] - 0s 184us/step - loss: 0.0339 - acc: 0.9910\n",
            "Epoch 81/100\n",
            "1000/1000 [==============================] - 0s 171us/step - loss: 0.0368 - acc: 0.9910\n",
            "Epoch 82/100\n",
            "1000/1000 [==============================] - 0s 170us/step - loss: 0.0672 - acc: 0.9890\n",
            "Epoch 83/100\n",
            "1000/1000 [==============================] - 0s 174us/step - loss: 0.0887 - acc: 0.9820\n",
            "Epoch 84/100\n",
            "1000/1000 [==============================] - 0s 167us/step - loss: 0.0341 - acc: 0.9950\n",
            "Epoch 85/100\n",
            "1000/1000 [==============================] - 0s 171us/step - loss: 0.0264 - acc: 0.9920\n",
            "Epoch 86/100\n",
            "1000/1000 [==============================] - 0s 182us/step - loss: 0.0715 - acc: 0.9860\n",
            "Epoch 87/100\n",
            "1000/1000 [==============================] - 0s 179us/step - loss: 0.0652 - acc: 0.9870\n",
            "Epoch 88/100\n",
            "1000/1000 [==============================] - 0s 179us/step - loss: 0.0666 - acc: 0.9870\n",
            "Epoch 89/100\n",
            "1000/1000 [==============================] - 0s 174us/step - loss: 0.0317 - acc: 0.9910\n",
            "Epoch 90/100\n",
            "1000/1000 [==============================] - 0s 179us/step - loss: 0.0606 - acc: 0.9850\n",
            "Epoch 91/100\n",
            "1000/1000 [==============================] - 0s 174us/step - loss: 0.0209 - acc: 0.9950\n",
            "Epoch 92/100\n",
            "1000/1000 [==============================] - 0s 171us/step - loss: 0.0447 - acc: 0.9910\n",
            "Epoch 93/100\n",
            "1000/1000 [==============================] - 0s 167us/step - loss: 0.0682 - acc: 0.9870\n",
            "Epoch 94/100\n",
            "1000/1000 [==============================] - 0s 172us/step - loss: 0.0371 - acc: 0.9940\n",
            "Epoch 95/100\n",
            "1000/1000 [==============================] - 0s 169us/step - loss: 0.0270 - acc: 0.9930\n",
            "Epoch 96/100\n",
            "1000/1000 [==============================] - 0s 172us/step - loss: 0.0547 - acc: 0.9900\n",
            "Epoch 97/100\n",
            "1000/1000 [==============================] - 0s 168us/step - loss: 0.0829 - acc: 0.9870\n",
            "Epoch 98/100\n",
            "1000/1000 [==============================] - 0s 173us/step - loss: 0.0882 - acc: 0.9830\n",
            "Epoch 99/100\n",
            "1000/1000 [==============================] - 0s 178us/step - loss: 0.0637 - acc: 0.9940\n",
            "Epoch 100/100\n",
            "1000/1000 [==============================] - 0s 183us/step - loss: 0.1152 - acc: 0.9840\n"
          ],
          "name": "stdout"
        },
        {
          "output_type": "execute_result",
          "data": {
            "text/plain": [
              "<keras.callbacks.History at 0x7f592d2a3978>"
            ]
          },
          "metadata": {
            "tags": []
          },
          "execution_count": 6
        }
      ]
    }
  ]
}