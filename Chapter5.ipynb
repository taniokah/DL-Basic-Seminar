{
  "nbformat": 4,
  "nbformat_minor": 0,
  "metadata": {
    "colab": {
      "name": "Chapter5.ipynb",
      "version": "0.3.2",
      "provenance": [],
      "include_colab_link": true
    },
    "kernelspec": {
      "name": "python3",
      "display_name": "Python 3"
    }
  },
  "cells": [
    {
      "cell_type": "markdown",
      "metadata": {
        "id": "view-in-github",
        "colab_type": "text"
      },
      "source": [
        "<a href=\"https://colab.research.google.com/github/taniokah/DL-Basic-Seminar/blob/master/Chapter5.ipynb\" target=\"_parent\"><img src=\"https://colab.research.google.com/assets/colab-badge.svg\" alt=\"Open In Colab\"/></a>"
      ]
    },
    {
      "metadata": {
        "id": "ZkEqPSu9989c",
        "colab_type": "code",
        "outputId": "a653b778-5789-44b8-e123-9fc276df27d6",
        "colab": {
          "base_uri": "https://localhost:8080/",
          "height": 298
        }
      },
      "cell_type": "code",
      "source": [
        "import tensorflow as tf\n",
        "import numpy as np\n",
        "from sklearn.utils import shuffle\n",
        "%matplotlib inline\n",
        "import matplotlib.pyplot as plt\n",
        "\n",
        "trainsamples = 200\n",
        "testsamples = 60\n",
        "\n",
        "#Here we will represent the model, a simple imput, a hidden layer of sigmoid activation\n",
        "def model(X, hidden_weights1, hidden_bias1, ow):\n",
        "   hidden_layer =  tf.nn.sigmoid(tf.matmul(X, hidden_weights1)+ b)\n",
        "   return tf.matmul(hidden_layer, ow)\n",
        "\n",
        "dsX = np.linspace(-1, 1, trainsamples + testsamples).transpose()\n",
        "dsY = 0.4* pow(dsX,2) +2 * dsX + np.random.randn(*dsX.shape) * 0.22 + 0.8\n",
        "plt.figure() # Create a new figure\n",
        "plt.title('Original data')\n",
        "plt.scatter(dsX,dsY) #Plot a scatter draw of the datapoints"
      ],
      "execution_count": 73,
      "outputs": [
        {
          "output_type": "execute_result",
          "data": {
            "text/plain": [
              "<matplotlib.collections.PathCollection at 0x7f901c592550>"
            ]
          },
          "metadata": {
            "tags": []
          },
          "execution_count": 73
        },
        {
          "output_type": "display_data",
          "data": {
            "image/png": "[encoded data removed]",
            "text/plain": [
              "<Figure size 432x288 with 1 Axes>"
            ]
          },
          "metadata": {
            "tags": []
          }
        }
      ]
    },
    {
      "metadata": {
        "id": "h9kXi5Bo-Pwj",
        "colab_type": "code",
        "outputId": "e00cd073-738f-42b9-f37d-6bf22156fc25",
        "colab": {
          "base_uri": "https://localhost:8080/",
          "height": 168
        }
      },
      "cell_type": "code",
      "source": [
        " X = tf.placeholder(\"float\")\n",
        " Y = tf.placeholder(\"float\")\n",
        "\n",
        "# Create first hidden layer\n",
        "hw1 = tf.Variable(tf.random_normal([1, 10], stddev=0.1))\n",
        "# Create output connection\n",
        "ow = tf.Variable(tf.random_normal([10, 1], stddev=0.0))\n",
        "# Create bias\n",
        "b = tf.Variable(tf.random_normal([10], stddev=0.1))\n",
        "model_y = model(X, hw1, b, ow)\n",
        "# Cost function\n",
        "cost = tf.pow(model_y-Y, 2)/(2)\n",
        "# construct an optimizer\n",
        "train_op = tf.train.GradientDescentOptimizer(0.05).minimize(cost)\n",
        "\n",
        "# Launch the graph in a session\n",
        "with tf.Session() as sess:\n",
        "   tf.initialize_all_variables().run() #Initialize all variables\n",
        "   for i in range(1,100):\n",
        "       dsX, dsY = shuffle (dsX.transpose(), dsY) #We randomize the samples to mplement a better training\n",
        "       trainX, trainY =dsX[0:trainsamples], dsY[0:trainsamples]\n",
        "       for x1,y1 in zip (trainX, trainY):\n",
        "           sess.run(train_op, feed_dict={X: [[x1]], Y: y1})\n",
        "       testX, testY = dsX[trainsamples:trainsamples + testsamples], dsY[0:trainsamples:trainsamples+testsamples]\n",
        "       cost1=0.\n",
        "       for x1,y1 in zip (testX, testY):\n",
        "           cost1 += sess.run(cost, feed_dict={X: [[x1]], Y: y1}) / testsamples\n",
        "       if (i%10 == 0):\n",
        "           print(\"Average cost for epoch \" + str (i) + \":\" + str(cost1))"
      ],
      "execution_count": 74,
      "outputs": [
        {
          "output_type": "stream",
          "text": [
            "Average cost for epoch 10:[[0.04102231]]\n",
            "Average cost for epoch 20:[[0.01180018]]\n",
            "Average cost for epoch 30:[[0.09638548]]\n",
            "Average cost for epoch 40:[[0.01444089]]\n",
            "Average cost for epoch 50:[[0.03796269]]\n",
            "Average cost for epoch 60:[[0.00723084]]\n",
            "Average cost for epoch 70:[[0.02375063]]\n",
            "Average cost for epoch 80:[[0.06177978]]\n",
            "Average cost for epoch 90:[[3.9795373e-06]]\n"
          ],
          "name": "stdout"
        }
      ]
    },
    {
      "metadata": {
        "id": "mK75Dwki-QG6",
        "colab_type": "code",
        "outputId": "7671364d-3b5d-488a-80ce-e935daf11f34",
        "colab": {
          "base_uri": "https://localhost:8080/",
          "height": 311
        }
      },
      "cell_type": "code",
      "source": [
        "%matplotlib inline\n",
        "import matplotlib.pyplot as plt\n",
        "import pandas as pd\n",
        "from sklearn import datasets, model_selection, metrics\n",
        "from sklearn import preprocessing\n",
        "import tensorflow.contrib.learn as skflow\n",
        "import tensorflow as tf\n",
        "\n",
        "# Read the original dataset\n",
        "df = pd.read_csv(\"mpg.csv\", header=0)\n",
        "\n",
        "# Convert the displacement column as float\n",
        "df['displacement']=df['displacement'].astype('float32')\n",
        "\n",
        "# We get data columns from the dataset\n",
        "# First and last (mpg and car names) are ignored for X\n",
        "X = df[df.columns[1:8]]\n",
        "y = df['mpg']\n",
        "plt.figure() # Create a new figure\n",
        "for i in range (1, 8):\n",
        "   number = 420 + i\n",
        "   ax1 = plt.subplot(number)\n",
        "   ax1.locator_params(nbins=3)\n",
        "   plt.title(list(df)[i])\n",
        "   ax1.scatter(df[df.columns[i]],y) #Plot a scatter draw of the datapoints\n",
        "plt.tight_layout(pad=0.4, w_pad=0.5, h_pad=1.0)\n",
        "\n"
      ],
      "execution_count": 77,
      "outputs": [
        {
          "output_type": "display_data",
          "data": {
            "image/png": "[encoded data removed]",
            "text/plain": [
              "<Figure size 432x288 with 7 Axes>"
            ]
          },
          "metadata": {
            "tags": []
          }
        }
      ]
    },
    {
      "metadata": {
        "id": "IHtzvlkK-EzF",
        "colab_type": "code",
        "outputId": "102f0f3f-d9cd-4807-d7e8-025c5933de89",
        "colab": {
          "base_uri": "https://localhost:8080/",
          "height": 692
        }
      },
      "cell_type": "code",
      "source": [
        "# Split the datasets\n",
        "X_train, X_test, y_train, y_test = model_selection.train_test_split(X, y, test_size=0.25)\n",
        "\n",
        "# Scale the data for convergency optimization\n",
        "scaler = preprocessing.StandardScaler()\n",
        "\n",
        "# Set the transform parameters\n",
        "X_train = scaler.fit_transform(X_train)\n",
        "\n",
        "# Build a 2 layer fully connected DNN with 10 and 5 units respectively\n",
        "feature_columns = tf.contrib.learn.infer_real_valued_columns_from_input(X_train)\n",
        "#feature_columns = tf.cast(feature_columns, tf.float32)\n",
        "regressor = skflow.DNNRegressor(feature_columns=feature_columns, hidden_units=[10, 5], optimizer=tf.train.GradientDescentOptimizer(learning_rate=0.051))\n",
        "\n",
        "# Fit the regressor\n",
        "regressor.fit(X_train, y_train, steps=500, batch_size=1)\n",
        "\n",
        "# Get some metrics based on the X and Y test data\n",
        "predicted_y= regressor.predict(scaler.fit_transform(X_test), as_iterable=False)\n",
        "score = metrics.mean_squared_error(predicted_y, y_test)\n",
        "print(\" Total Mean Squared Error: \" + str(score))"
      ],
      "execution_count": 78,
      "outputs": [
        {
          "output_type": "stream",
          "text": [
            "WARNING:tensorflow:float64 is not supported by many models, consider casting to float32.\n",
            "INFO:tensorflow:Using default config.\n",
            "WARNING:tensorflow:Using temporary folder as model directory: /tmp/tmpyvfm0str\n",
            "INFO:tensorflow:Using config: {'_task_type': None, '_task_id': 0, '_cluster_spec': <tensorflow.python.training.server_lib.ClusterSpec object at 0x7f901d37e278>, '_master': '', '_num_ps_replicas': 0, '_num_worker_replicas': 0, '_environment': 'local', '_is_chief': True, '_evaluation_master': '', '_train_distribute': None, '_eval_distribute': None, '_device_fn': None, '_tf_config': gpu_options {\n",
            "  per_process_gpu_memory_fraction: 1.0\n",
            "}\n",
            ", '_tf_random_seed': None, '_save_summary_steps': 100, '_save_checkpoints_secs': 600, '_log_step_count_steps': 100, '_protocol': None, '_session_config': None, '_save_checkpoints_steps': None, '_keep_checkpoint_max': 5, '_keep_checkpoint_every_n_hours': 10000, '_model_dir': '/tmp/tmpyvfm0str'}\n",
            "WARNING:tensorflow:float64 is not supported by many models, consider casting to float32.\n",
            "WARNING:tensorflow:float64 is not supported by many models, consider casting to float32.\n"
          ],
          "name": "stdout"
        },
        {
          "output_type": "stream",
          "text": [
            "/usr/local/lib/python3.6/dist-packages/sklearn/preprocessing/data.py:645: DataConversionWarning: Data with input dtype int64, float32, float64 were all converted to float64 by StandardScaler.\n",
            "  return self.partial_fit(X, y)\n",
            "/usr/local/lib/python3.6/dist-packages/sklearn/base.py:464: DataConversionWarning: Data with input dtype int64, float32, float64 were all converted to float64 by StandardScaler.\n",
            "  return self.fit(X, **fit_params).transform(X)\n"
          ],
          "name": "stderr"
        },
        {
          "output_type": "stream",
          "text": [
            "INFO:tensorflow:Create CheckpointSaverHook.\n",
            "INFO:tensorflow:Graph was finalized.\n",
            "INFO:tensorflow:Running local_init_op.\n",
            "INFO:tensorflow:Done running local_init_op.\n",
            "INFO:tensorflow:Saving checkpoints for 0 into /tmp/tmpyvfm0str/model.ckpt.\n",
            "INFO:tensorflow:loss = 806.56, step = 1\n",
            "INFO:tensorflow:global_step/sec: 946.892\n",
            "INFO:tensorflow:loss = 31.697126, step = 101 (0.111 sec)\n",
            "INFO:tensorflow:global_step/sec: 1139.42\n",
            "INFO:tensorflow:loss = 0.08528506, step = 201 (0.084 sec)\n",
            "INFO:tensorflow:global_step/sec: 1186.86\n",
            "INFO:tensorflow:loss = 22.795921, step = 301 (0.084 sec)\n",
            "INFO:tensorflow:global_step/sec: 1170.15\n",
            "INFO:tensorflow:loss = 19.084057, step = 401 (0.085 sec)\n",
            "INFO:tensorflow:Saving checkpoints for 500 into /tmp/tmpyvfm0str/model.ckpt.\n",
            "INFO:tensorflow:Loss for final step: 2.3884518.\n",
            "WARNING:tensorflow:float64 is not supported by many models, consider casting to float32.\n"
          ],
          "name": "stdout"
        },
        {
          "output_type": "stream",
          "text": [
            "/usr/local/lib/python3.6/dist-packages/sklearn/preprocessing/data.py:645: DataConversionWarning: Data with input dtype int64, float32, float64 were all converted to float64 by StandardScaler.\n",
            "  return self.partial_fit(X, y)\n",
            "/usr/local/lib/python3.6/dist-packages/sklearn/base.py:464: DataConversionWarning: Data with input dtype int64, float32, float64 were all converted to float64 by StandardScaler.\n",
            "  return self.fit(X, **fit_params).transform(X)\n"
          ],
          "name": "stderr"
        },
        {
          "output_type": "stream",
          "text": [
            "INFO:tensorflow:Graph was finalized.\n",
            "INFO:tensorflow:Restoring parameters from /tmp/tmpyvfm0str/model.ckpt-500\n",
            "INFO:tensorflow:Running local_init_op.\n",
            "INFO:tensorflow:Done running local_init_op.\n",
            " Total Mean Squared Error: 65.7509173854019\n"
          ],
          "name": "stdout"
        }
      ]
    },
    {
      "metadata": {
        "id": "lMepkD0-IwSX",
        "colab_type": "code",
        "colab": {
          "base_uri": "https://localhost:8080/",
          "height": 311
        },
        "outputId": "0ea53e35-e2c3-40e0-e9fd-e8409f618d11"
      },
      "cell_type": "code",
      "source": [
        "%matplotlib inline\n",
        "import matplotlib.pyplot as plt\n",
        "import pandas as pd\n",
        "from sklearn import datasets, model_selection, metrics\n",
        "from sklearn import preprocessing\n",
        "import tensorflow.contrib.learn as skflow\n",
        "import tensorflow as tf\n",
        "\n",
        "# Read the original dataset\n",
        "df = pd.read_csv(\"wine.csv\", header=0)\n",
        "\n",
        "# We get data columns from the dataset\n",
        "# First and last (mpg and car names) are ignored for X\n",
        "X = df[df.columns[1:8]]\n",
        "y = df['Wine'].values-1\n",
        "plt.figure() # Create a new figure\n",
        "for i in range (1, 8):\n",
        "   number = 420 + i\n",
        "   ax1 = plt.subplot(number)\n",
        "   ax1.locator_params(nbins=3)\n",
        "   plt.title(list(df)[i])\n",
        "   ax1.scatter(df[df.columns[i]],y) #Plot a scatter draw of the datapoints\n",
        "plt.tight_layout(pad=0.4, w_pad=0.5, h_pad=1.0)\n",
        "\n"
      ],
      "execution_count": 79,
      "outputs": [
        {
          "output_type": "display_data",
          "data": {
            "image/png": "[encoded data removed]",
            "text/plain": [
              "<Figure size 432x288 with 7 Axes>"
            ]
          },
          "metadata": {
            "tags": []
          }
        }
      ]
    },
    {
      "metadata": {
        "id": "Wma-UmxMj0NS",
        "colab_type": "code",
        "colab": {
          "base_uri": "https://localhost:8080/",
          "height": 2238
        },
        "outputId": "98f04f8f-e11e-4635-ca1e-a135d1397f02"
      },
      "cell_type": "code",
      "source": [
        "sess = tf.InteractiveSession()\n",
        "import pandas as pd\n",
        "from sklearn.utils import shuffle\n",
        "from sklearn import preprocessing\n",
        "import tensorflow as tf\n",
        "\n",
        "flags = tf.app.flags\n",
        "FLAGS = flags.FLAGS\n",
        "\n",
        "df = pd.read_csv(\"./wine.csv\", header=0)\n",
        "print (df.describe())\n",
        "\n",
        "#df['displacement']=df['displacement'].astype(float)\n",
        "X = df[df.columns[1:13]].values\n",
        "y = df['Wine'].values-1\n",
        "Y = tf.one_hot(indices = y, depth=3, on_value = 1., off_value = 0., axis = 1, name = \"a\").eval()\n",
        "X, Y = shuffle(X, Y)\n",
        "\n",
        "scaler = preprocessing.StandardScaler()\n",
        "X = scaler.fit_transform(X)\n",
        "\n",
        "# Create the model\n",
        "x = tf.placeholder(tf.float32, [None, 12])\n",
        "W = tf.Variable(tf.zeros([12, 3]))\n",
        "b = tf.Variable(tf.zeros([3]))\n",
        "y = tf.nn.softmax(tf.matmul(x, W) + b)\n",
        "\n",
        "# Define loss and optimizer\n",
        "y_ = tf.placeholder(tf.float32, [None, 3])\n",
        "cross_entropy = tf.reduce_mean(-tf.reduce_sum(y_ * tf.log(y), reduction_indices=[1]))\n",
        "train_step = tf.train.GradientDescentOptimizer(0.1).minimize(cross_entropy)\n",
        "\n",
        "# Train\n",
        "tf.global_variables_initializer().run()\n",
        "for i in range(100):\n",
        "    X,Y =shuffle (X, Y, random_state=1)\n",
        "    Xtr=X[0:140,:]\n",
        "    Ytr=Y[0:140,:]\n",
        "    Xt=X[140:178,:]\n",
        "    Yt=Y[140:178,:]\n",
        "    Xtr, Ytr = shuffle (Xtr, Ytr, random_state=0)\n",
        "\n",
        "    #batch_xs, batch_ys = mnist.train.next_batch(100)\n",
        "    batch_xs, batch_ys = Xtr , Ytr\n",
        "    train_step.run({x: batch_xs, y_: batch_ys})\n",
        "    cost = sess.run (cross_entropy, feed_dict={x: batch_xs, y_: batch_ys})\n",
        "\n",
        "    # Test trained model\n",
        "    correct_prediction = tf.equal(tf.argmax(y, 1), tf.argmax(y_, 1))\n",
        "    accuracy = tf.reduce_mean(tf.cast(correct_prediction, tf.float32))\n",
        "    print(accuracy.eval({x: Xt, y_: Yt}))\n",
        "\n",
        "sess.close()"
      ],
      "execution_count": 80,
      "outputs": [
        {
          "output_type": "stream",
          "text": [
            "/usr/local/lib/python3.6/dist-packages/tensorflow/python/client/session.py:1702: UserWarning: An interactive session is already active. This can cause out-of-memory errors in some cases. You must explicitly call `InteractiveSession.close()` to release resources held by the other session(s).\n",
            "  warnings.warn('An interactive session is already active. This can '\n"
          ],
          "name": "stderr"
        },
        {
          "output_type": "stream",
          "text": [
            "             Wine     Alcohol  Malic.acid         Ash         Acl          Mg  \\\n",
            "count  178.000000  178.000000  178.000000  178.000000  178.000000  178.000000   \n",
            "mean     1.938202   13.000618    2.336348    2.366517   19.494944   99.741573   \n",
            "std      0.775035    0.811827    1.117146    0.274344    3.339564   14.282484   \n",
            "min      1.000000   11.030000    0.740000    1.360000   10.600000   70.000000   \n",
            "25%      1.000000   12.362500    1.602500    2.210000   17.200000   88.000000   \n",
            "50%      2.000000   13.050000    1.865000    2.360000   19.500000   98.000000   \n",
            "75%      3.000000   13.677500    3.082500    2.557500   21.500000  107.000000   \n",
            "max      3.000000   14.830000    5.800000    3.230000   30.000000  162.000000   \n",
            "\n",
            "          Phenols  Flavanoids  Nonflavanoid.phenols     Proanth   Color.int  \\\n",
            "count  178.000000  178.000000            178.000000  178.000000  178.000000   \n",
            "mean     2.295112    2.029270              0.361854    1.590899    5.058090   \n",
            "std      0.625851    0.998859              0.124453    0.572359    2.318286   \n",
            "min      0.980000    0.340000              0.130000    0.410000    1.280000   \n",
            "25%      1.742500    1.205000              0.270000    1.250000    3.220000   \n",
            "50%      2.355000    2.135000              0.340000    1.555000    4.690000   \n",
            "75%      2.800000    2.875000              0.437500    1.950000    6.200000   \n",
            "max      3.880000    5.080000              0.660000    3.580000   13.000000   \n",
            "\n",
            "              Hue          OD      Proline  \n",
            "count  178.000000  178.000000   178.000000  \n",
            "mean     0.957449    2.611685   746.893258  \n",
            "std      0.228572    0.709990   314.907474  \n",
            "min      0.480000    1.270000   278.000000  \n",
            "25%      0.782500    1.937500   500.500000  \n",
            "50%      0.965000    2.780000   673.500000  \n",
            "75%      1.120000    3.170000   985.000000  \n",
            "max      1.710000    4.000000  1680.000000  \n",
            "0.81578946\n",
            "0.94736844\n",
            "0.94736844\n",
            "0.9736842\n",
            "0.92105263\n",
            "0.9736842\n",
            "0.94736844\n",
            "0.92105263\n",
            "0.94736844\n",
            "0.94736844\n",
            "0.9736842\n",
            "0.9736842\n",
            "0.9736842\n",
            "0.94736844\n",
            "0.9736842\n",
            "0.94736844\n",
            "0.92105263\n",
            "0.92105263\n",
            "0.8947368\n",
            "0.9736842\n",
            "0.9736842\n",
            "0.9736842\n",
            "0.94736844\n",
            "0.92105263\n",
            "0.9736842\n",
            "0.92105263\n",
            "0.9736842\n",
            "0.94736844\n",
            "0.9736842\n",
            "0.94736844\n",
            "0.92105263\n",
            "1.0\n",
            "0.94736844\n",
            "0.9736842\n",
            "0.94736844\n",
            "0.9736842\n",
            "1.0\n",
            "0.9736842\n",
            "0.9736842\n",
            "0.92105263\n",
            "1.0\n",
            "0.92105263\n",
            "1.0\n",
            "1.0\n",
            "1.0\n",
            "1.0\n",
            "0.94736844\n",
            "1.0\n",
            "0.9736842\n",
            "0.94736844\n",
            "0.9736842\n",
            "1.0\n",
            "0.9736842\n",
            "0.94736844\n",
            "1.0\n",
            "1.0\n",
            "1.0\n",
            "0.94736844\n",
            "0.9736842\n",
            "0.9736842\n",
            "0.92105263\n",
            "1.0\n",
            "1.0\n",
            "0.9736842\n",
            "0.94736844\n",
            "0.9736842\n",
            "0.9736842\n",
            "0.9736842\n",
            "0.9736842\n",
            "1.0\n",
            "0.94736844\n",
            "0.9736842\n",
            "0.9736842\n",
            "0.9736842\n",
            "0.9736842\n",
            "0.9736842\n",
            "0.9736842\n",
            "0.9736842\n",
            "0.9736842\n",
            "0.94736844\n",
            "0.9736842\n",
            "0.94736844\n",
            "0.92105263\n",
            "0.94736844\n",
            "1.0\n",
            "1.0\n",
            "0.9736842\n",
            "1.0\n",
            "1.0\n",
            "0.94736844\n",
            "0.92105263\n",
            "0.9736842\n",
            "0.9736842\n",
            "1.0\n",
            "1.0\n",
            "0.9736842\n",
            "1.0\n",
            "0.92105263\n",
            "0.9736842\n",
            "1.0\n"
          ],
          "name": "stdout"
        }
      ]
    },
    {
      "metadata": {
        "id": "hW-ft86F6sT2",
        "colab_type": "code",
        "colab": {}
      },
      "cell_type": "code",
      "source": [
        ""
      ],
      "execution_count": 0,
      "outputs": []
    }
  ]
}