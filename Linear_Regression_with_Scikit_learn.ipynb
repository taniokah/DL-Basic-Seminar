{
  "nbformat": 4,
  "nbformat_minor": 0,
  "metadata": {
    "colab": {
      "name": "Linear Regression with Scikit-learn.ipynb",
      "provenance": [],
      "include_colab_link": true
    },
    "kernelspec": {
      "name": "python3",
      "display_name": "Python 3"
    }
  },
  "cells": [
    {
      "cell_type": "markdown",
      "metadata": {
        "id": "view-in-github",
        "colab_type": "text"
      },
      "source": [
        "<a href=\"https://colab.research.google.com/github/taniokah/DL-Basic-Seminar/blob/master/Linear_Regression_with_Scikit_learn.ipynb\" target=\"_parent\"><img src=\"https://colab.research.google.com/assets/colab-badge.svg\" alt=\"Open In Colab\"/></a>"
      ]
    },
    {
      "cell_type": "markdown",
      "metadata": {
        "id": "KL1V015rRiEl",
        "colab_type": "text"
      },
      "source": [
        "# Sickit-learn を使って線形回帰\n",
        "\n",
        "以下の記事を参考に Scikit-learn を用いた線形回帰分析と、学習済みモデルを用いた推測を実験します。Bostonの不動産価格についてのデータを用います。\n",
        "\n",
        "Scikit-learn で線形回帰  \n",
        "https://qiita.com/0NE_shoT_/items/08376b08783cd554b02e\n"
      ]
    },
    {
      "cell_type": "code",
      "metadata": {
        "id": "cIGAoMOMfLr3",
        "colab_type": "code",
        "colab": {}
      },
      "source": [
        "from sklearn.datasets import load_boston\n",
        "boston = load_boston() # データセットの読み込み\n",
        "\n",
        "import pandas as pd\n",
        "boston_df = pd.DataFrame(boston.data, columns = boston.feature_names) # 説明変数(boston.data)をDataFrameに保存\n",
        "boston_df['MEDV'] = boston.target # 目的変数(boston.target)もDataFrameに追加\n"
      ],
      "execution_count": 0,
      "outputs": []
    },
    {
      "cell_type": "code",
      "metadata": {
        "id": "skSbRn6agmRo",
        "colab_type": "code",
        "colab": {
          "base_uri": "https://localhost:8080/",
          "height": 204
        },
        "outputId": "227bd745-4655-48ca-b7f5-aa9576b784ac"
      },
      "source": [
        "boston_df.head()"
      ],
      "execution_count": 3,
      "outputs": [
        {
          "output_type": "execute_result",
          "data": {
            "text/html": [
              "<div>\n",
              "<style scoped>\n",
              "    .dataframe tbody tr th:only-of-type {\n",
              "        vertical-align: middle;\n",
              "    }\n",
              "\n",
              "    .dataframe tbody tr th {\n",
              "        vertical-align: top;\n",
              "    }\n",
              "\n",
              "    .dataframe thead th {\n",
              "        text-align: right;\n",
              "    }\n",
              "</style>\n",
              "<table border=\"1\" class=\"dataframe\">\n",
              "  <thead>\n",
              "    <tr style=\"text-align: right;\">\n",
              "      <th></th>\n",
              "      <th>CRIM</th>\n",
              "      <th>ZN</th>\n",
              "      <th>INDUS</th>\n",
              "      <th>CHAS</th>\n",
              "      <th>NOX</th>\n",
              "      <th>RM</th>\n",
              "      <th>AGE</th>\n",
              "      <th>DIS</th>\n",
              "      <th>RAD</th>\n",
              "      <th>TAX</th>\n",
              "      <th>PTRATIO</th>\n",
              "      <th>B</th>\n",
              "      <th>LSTAT</th>\n",
              "      <th>MEDV</th>\n",
              "    </tr>\n",
              "  </thead>\n",
              "  <tbody>\n",
              "    <tr>\n",
              "      <th>0</th>\n",
              "      <td>0.00632</td>\n",
              "      <td>18.0</td>\n",
              "      <td>2.31</td>\n",
              "      <td>0.0</td>\n",
              "      <td>0.538</td>\n",
              "      <td>6.575</td>\n",
              "      <td>65.2</td>\n",
              "      <td>4.0900</td>\n",
              "      <td>1.0</td>\n",
              "      <td>296.0</td>\n",
              "      <td>15.3</td>\n",
              "      <td>396.90</td>\n",
              "      <td>4.98</td>\n",
              "      <td>24.0</td>\n",
              "    </tr>\n",
              "    <tr>\n",
              "      <th>1</th>\n",
              "      <td>0.02731</td>\n",
              "      <td>0.0</td>\n",
              "      <td>7.07</td>\n",
              "      <td>0.0</td>\n",
              "      <td>0.469</td>\n",
              "      <td>6.421</td>\n",
              "      <td>78.9</td>\n",
              "      <td>4.9671</td>\n",
              "      <td>2.0</td>\n",
              "      <td>242.0</td>\n",
              "      <td>17.8</td>\n",
              "      <td>396.90</td>\n",
              "      <td>9.14</td>\n",
              "      <td>21.6</td>\n",
              "    </tr>\n",
              "    <tr>\n",
              "      <th>2</th>\n",
              "      <td>0.02729</td>\n",
              "      <td>0.0</td>\n",
              "      <td>7.07</td>\n",
              "      <td>0.0</td>\n",
              "      <td>0.469</td>\n",
              "      <td>7.185</td>\n",
              "      <td>61.1</td>\n",
              "      <td>4.9671</td>\n",
              "      <td>2.0</td>\n",
              "      <td>242.0</td>\n",
              "      <td>17.8</td>\n",
              "      <td>392.83</td>\n",
              "      <td>4.03</td>\n",
              "      <td>34.7</td>\n",
              "    </tr>\n",
              "    <tr>\n",
              "      <th>3</th>\n",
              "      <td>0.03237</td>\n",
              "      <td>0.0</td>\n",
              "      <td>2.18</td>\n",
              "      <td>0.0</td>\n",
              "      <td>0.458</td>\n",
              "      <td>6.998</td>\n",
              "      <td>45.8</td>\n",
              "      <td>6.0622</td>\n",
              "      <td>3.0</td>\n",
              "      <td>222.0</td>\n",
              "      <td>18.7</td>\n",
              "      <td>394.63</td>\n",
              "      <td>2.94</td>\n",
              "      <td>33.4</td>\n",
              "    </tr>\n",
              "    <tr>\n",
              "      <th>4</th>\n",
              "      <td>0.06905</td>\n",
              "      <td>0.0</td>\n",
              "      <td>2.18</td>\n",
              "      <td>0.0</td>\n",
              "      <td>0.458</td>\n",
              "      <td>7.147</td>\n",
              "      <td>54.2</td>\n",
              "      <td>6.0622</td>\n",
              "      <td>3.0</td>\n",
              "      <td>222.0</td>\n",
              "      <td>18.7</td>\n",
              "      <td>396.90</td>\n",
              "      <td>5.33</td>\n",
              "      <td>36.2</td>\n",
              "    </tr>\n",
              "  </tbody>\n",
              "</table>\n",
              "</div>"
            ],
            "text/plain": [
              "      CRIM    ZN  INDUS  CHAS    NOX  ...    TAX  PTRATIO       B  LSTAT  MEDV\n",
              "0  0.00632  18.0   2.31   0.0  0.538  ...  296.0     15.3  396.90   4.98  24.0\n",
              "1  0.02731   0.0   7.07   0.0  0.469  ...  242.0     17.8  396.90   9.14  21.6\n",
              "2  0.02729   0.0   7.07   0.0  0.469  ...  242.0     17.8  392.83   4.03  34.7\n",
              "3  0.03237   0.0   2.18   0.0  0.458  ...  222.0     18.7  394.63   2.94  33.4\n",
              "4  0.06905   0.0   2.18   0.0  0.458  ...  222.0     18.7  396.90   5.33  36.2\n",
              "\n",
              "[5 rows x 14 columns]"
            ]
          },
          "metadata": {
            "tags": []
          },
          "execution_count": 3
        }
      ]
    },
    {
      "cell_type": "code",
      "metadata": {
        "id": "fTNWSy-GhZGc",
        "colab_type": "code",
        "colab": {
          "base_uri": "https://localhost:8080/",
          "height": 295
        },
        "outputId": "14854945-9362-492c-c2a0-64fae19e5eff"
      },
      "source": [
        "# 全データをグラフ表示\n",
        "\n",
        "import matplotlib.pyplot as plt\n",
        "plt.scatter(boston_df['RM'], boston_df['MEDV']) # 平均部屋数と住宅価格の散布図をプロット\n",
        "\n",
        "plt.title('Scatter Plot of RM vs MEDV')    # 図のタイトル\n",
        "plt.xlabel('Average number of rooms [RM]') # x軸のラベル\n",
        "plt.ylabel('Prices in $1000\\'s [MEDV]')    # y軸のラベル\n",
        "plt.grid()                                 # グリッド線を表示\n",
        "\n",
        "plt.show()                                 # 図の表示"
      ],
      "execution_count": 4,
      "outputs": [
        {
          "output_type": "display_data",
          "data": {
            "image/png": "[encoded data removed]",
            "text/plain": [
              "<Figure size 432x288 with 1 Axes>"
            ]
          },
          "metadata": {
            "tags": []
          }
        }
      ]
    },
    {
      "cell_type": "markdown",
      "metadata": {
        "id": "Pcp-UTukj2sR",
        "colab_type": "text"
      },
      "source": [
        ""
      ]
    },
    {
      "cell_type": "code",
      "metadata": {
        "id": "lgF5yhMhh9dd",
        "colab_type": "code",
        "colab": {
          "base_uri": "https://localhost:8080/",
          "height": 111
        },
        "outputId": "29d8c147-c53f-4194-b626-e6539b9e2daf"
      },
      "source": [
        "boston_df[['RM','MEDV']].corr()"
      ],
      "execution_count": 5,
      "outputs": [
        {
          "output_type": "execute_result",
          "data": {
            "text/html": [
              "<div>\n",
              "<style scoped>\n",
              "    .dataframe tbody tr th:only-of-type {\n",
              "        vertical-align: middle;\n",
              "    }\n",
              "\n",
              "    .dataframe tbody tr th {\n",
              "        vertical-align: top;\n",
              "    }\n",
              "\n",
              "    .dataframe thead th {\n",
              "        text-align: right;\n",
              "    }\n",
              "</style>\n",
              "<table border=\"1\" class=\"dataframe\">\n",
              "  <thead>\n",
              "    <tr style=\"text-align: right;\">\n",
              "      <th></th>\n",
              "      <th>RM</th>\n",
              "      <th>MEDV</th>\n",
              "    </tr>\n",
              "  </thead>\n",
              "  <tbody>\n",
              "    <tr>\n",
              "      <th>RM</th>\n",
              "      <td>1.00000</td>\n",
              "      <td>0.69536</td>\n",
              "    </tr>\n",
              "    <tr>\n",
              "      <th>MEDV</th>\n",
              "      <td>0.69536</td>\n",
              "      <td>1.00000</td>\n",
              "    </tr>\n",
              "  </tbody>\n",
              "</table>\n",
              "</div>"
            ],
            "text/plain": [
              "           RM     MEDV\n",
              "RM    1.00000  0.69536\n",
              "MEDV  0.69536  1.00000"
            ]
          },
          "metadata": {
            "tags": []
          },
          "execution_count": 5
        }
      ]
    },
    {
      "cell_type": "code",
      "metadata": {
        "id": "KNUMH-D0j37Z",
        "colab_type": "code",
        "colab": {
          "base_uri": "https://localhost:8080/",
          "height": 34
        },
        "outputId": "f953253a-6a82-48ed-d42d-7bfd6e88d9da"
      },
      "source": [
        "from sklearn.linear_model import LinearRegression\n",
        "lr = LinearRegression()\n",
        "\n",
        "X = boston_df[['RM']].values         # 説明変数（Numpyの配列）\n",
        "Y = boston_df['MEDV'].values         # 目的変数（Numpyの配列）\n",
        "\n",
        "lr.fit(X, Y)                         # 線形モデルの重みを学習"
      ],
      "execution_count": 6,
      "outputs": [
        {
          "output_type": "execute_result",
          "data": {
            "text/plain": [
              "LinearRegression(copy_X=True, fit_intercept=True, n_jobs=None, normalize=False)"
            ]
          },
          "metadata": {
            "tags": []
          },
          "execution_count": 6
        }
      ]
    },
    {
      "cell_type": "code",
      "metadata": {
        "id": "Z-bPivS7kjqD",
        "colab_type": "code",
        "colab": {
          "base_uri": "https://localhost:8080/",
          "height": 51
        },
        "outputId": "b1cebf2f-a27c-4cec-fd75-86bf207d1e69"
      },
      "source": [
        "print('coefficient = ', lr.coef_[0]) # 説明変数の係数を出力\n",
        "print('intercept = ', lr.intercept_) # 切片を出力\n",
        "\n",
        "coefficient =  lr.coef_[0]\n",
        "intercept =  lr.intercept_"
      ],
      "execution_count": 7,
      "outputs": [
        {
          "output_type": "stream",
          "text": [
            "coefficient =  9.10210898118031\n",
            "intercept =  -34.67062077643857\n"
          ],
          "name": "stdout"
        }
      ]
    },
    {
      "cell_type": "code",
      "metadata": {
        "id": "o_pnDNWVkrUq",
        "colab_type": "code",
        "colab": {
          "base_uri": "https://localhost:8080/",
          "height": 295
        },
        "outputId": "cf4a846a-05ce-4ec4-e33c-29463670c950"
      },
      "source": [
        "# 全データと回帰直線をグラフ表示\n",
        "\n",
        "plt.scatter(X, Y, color = 'blue')         # 説明変数と目的変数のデータ点の散布図をプロット\n",
        "plt.plot(X, lr.predict(X), color = 'red') # 回帰直線をプロット\n",
        "\n",
        "plt.title('Regression Line')               # 図のタイトル\n",
        "plt.xlabel('Average number of rooms [RM]') # x軸のラベル\n",
        "plt.ylabel('Prices in $1000\\'s [MEDV]')    # y軸のラベル\n",
        "plt.grid()                                 # グリッド線を表示\n",
        "\n",
        "plt.show()                                 # 図の表示"
      ],
      "execution_count": 8,
      "outputs": [
        {
          "output_type": "display_data",
          "data": {
            "image/png": "[encoded data removed]",
            "text/plain": [
              "<Figure size 432x288 with 1 Axes>"
            ]
          },
          "metadata": {
            "tags": []
          }
        }
      ]
    },
    {
      "cell_type": "code",
      "metadata": {
        "id": "EGleG2C2lLgQ",
        "colab_type": "code",
        "colab": {
          "base_uri": "https://localhost:8080/",
          "height": 34
        },
        "outputId": "a595c716-367c-41e8-c856-6571c274826d"
      },
      "source": [
        "from sklearn.model_selection import train_test_split\n",
        "X_train, X_test, Y_train, Y_test = train_test_split(X, Y, train_size = 0.7, test_size = 0.3, random_state = 0) # データを学習用と検証用に分割\n",
        "\n",
        "lr = LinearRegression()\n",
        "lr.fit(X_train, Y_train) # 線形モデルの重みを学習\n"
      ],
      "execution_count": 9,
      "outputs": [
        {
          "output_type": "execute_result",
          "data": {
            "text/plain": [
              "LinearRegression(copy_X=True, fit_intercept=True, n_jobs=None, normalize=False)"
            ]
          },
          "metadata": {
            "tags": []
          },
          "execution_count": 9
        }
      ]
    },
    {
      "cell_type": "code",
      "metadata": {
        "id": "UqIEWkn_nDVp",
        "colab_type": "code",
        "colab": {
          "base_uri": "https://localhost:8080/",
          "height": 295
        },
        "outputId": "263fa62a-0581-4784-dc0f-5c9b0b60ee3a"
      },
      "source": [
        "# 訓練データと回帰直線をグラフ表示\n",
        "\n",
        "plt.scatter(X_train, Y_train, color = 'blue')         # 説明変数と目的変数のデータ点の散布図をプロット\n",
        "plt.plot(X_train, lr.predict(X_train), color = 'red') # 回帰直線をプロット\n",
        "\n",
        "plt.title('Regression Line')               # 図のタイトル\n",
        "plt.xlabel('Average number of rooms [RM]') # x軸のラベル\n",
        "plt.ylabel('Prices in $1000\\'s [MEDV]')    # y軸のラベル\n",
        "plt.grid()                                 # グリッド線を表示\n",
        "\n",
        "plt.show()                                 # 図の表示"
      ],
      "execution_count": 10,
      "outputs": [
        {
          "output_type": "display_data",
          "data": {
            "image/png": "[encoded data removed]",
            "text/plain": [
              "<Figure size 432x288 with 1 Axes>"
            ]
          },
          "metadata": {
            "tags": []
          }
        }
      ]
    },
    {
      "cell_type": "code",
      "metadata": {
        "id": "SU8uzhHdngES",
        "colab_type": "code",
        "colab": {
          "base_uri": "https://localhost:8080/",
          "height": 295
        },
        "outputId": "bab17e2c-56fc-4775-f098-6941794f6904"
      },
      "source": [
        "Y_pred = lr.predict(X_test) # 検証データを用いて目的変数を予測\n",
        "\n",
        "plt.scatter(Y_pred, Y_pred - Y_test, color = 'blue')      # 残差をプロット \n",
        "plt.hlines(y = 0, xmin = -10, xmax = 50, color = 'black') # x軸に沿った直線をプロット\n",
        "plt.title('Residual Plot')                                # 図のタイトル\n",
        "plt.xlabel('Predicted Values')                            # x軸のラベル\n",
        "plt.ylabel('Residuals')                                   # y軸のラベル\n",
        "plt.grid()                                                # グリッド線を表示\n",
        "\n",
        "plt.show()                                               # 図の表示"
      ],
      "execution_count": 11,
      "outputs": [
        {
          "output_type": "display_data",
          "data": {
            "image/png": "[encoded data removed]",
            "text/plain": [
              "<Figure size 432x288 with 1 Axes>"
            ]
          },
          "metadata": {
            "tags": []
          }
        }
      ]
    },
    {
      "cell_type": "markdown",
      "metadata": {
        "id": "B9gYVrwSVCpL",
        "colab_type": "text"
      },
      "source": [
        "# 精度評価用の指標について\n",
        "\n",
        "訓練データを用いて学習した学習モデルを使って実際にテストしてみたとき、どの程度の精度であるかを判定するための指標がいろいろあります。今回は、MSE と R^2 を紹介してあります。\n",
        "\n",
        "下記 MSE と R^2 を含む説明が見つかりましたので、メモしておきます。\n",
        "\n",
        "scikit-learn で回帰モデルの結果を評価する  \n",
        "https://pythondatascience.plavox.info/scikit-learn/%E5%9B%9E%E5%B8%B0%E3%83%A2%E3%83%87%E3%83%AB%E3%81%AE%E8%A9%95%E4%BE%A1\n",
        "\n"
      ]
    },
    {
      "cell_type": "code",
      "metadata": {
        "id": "vDOIBn_joBA3",
        "colab_type": "code",
        "colab": {
          "base_uri": "https://localhost:8080/",
          "height": 51
        },
        "outputId": "52a65958-4267-440c-8812-cac4c4a86b79"
      },
      "source": [
        "from sklearn.metrics import mean_squared_error\n",
        "\n",
        "Y_train_pred = lr.predict(X_train) # 学習データに対する目的変数を予測\n",
        "\n",
        "# 訓練データを用いて評価した場合は、通常はテストデータで評価した場合よりも高い精度になります。\n",
        "\n",
        "print('MSE train data: ', mean_squared_error(Y_train, Y_train_pred)) # 学習データを用いたときの平均二乗誤差を出力、小さいはず\n",
        "print('MSE test data: ', mean_squared_error(Y_test, Y_pred))         # 検証データ、大きいはず\n"
      ],
      "execution_count": 16,
      "outputs": [
        {
          "output_type": "stream",
          "text": [
            "MSE train data:  42.15765086312224\n",
            "MSE test data:  47.03304747975518\n"
          ],
          "name": "stdout"
        }
      ]
    },
    {
      "cell_type": "code",
      "metadata": {
        "id": "_MAy8sh5pfY9",
        "colab_type": "code",
        "colab": {
          "base_uri": "https://localhost:8080/",
          "height": 51
        },
        "outputId": "eba76c77-aca9-490b-9bd6-07565e5967bd"
      },
      "source": [
        "from sklearn.metrics import r2_score\n",
        "\n",
        "# 誤差(エラー率)である MSE では、訓練データでのテストは小さい値、正解率(あてはまり)である R^2 は、大きい値になります。\n",
        "\n",
        "print('r^2 train data: ', r2_score(Y_train, Y_train_pred))    # 大きいはず\n",
        "print('r^2 test data: ', r2_score(Y_test, Y_pred))    # 小さいはず"
      ],
      "execution_count": 17,
      "outputs": [
        {
          "output_type": "stream",
          "text": [
            "r^2 train data:  0.5026497630040827\n",
            "r^2 test data:  0.43514364832115193\n"
          ],
          "name": "stdout"
        }
      ]
    },
    {
      "cell_type": "markdown",
      "metadata": {
        "id": "A9y2N6h-ZFrH",
        "colab_type": "text"
      },
      "source": [
        "# 重回帰分析をやってみる\n",
        "\n",
        "RM に加えて、DIS も利用して学習してみます。"
      ]
    },
    {
      "cell_type": "code",
      "metadata": {
        "id": "qvjdkzJPUxj7",
        "colab_type": "code",
        "colab": {
          "base_uri": "https://localhost:8080/",
          "height": 34
        },
        "outputId": "96e28e0a-0267-4930-f65f-aee987f65935"
      },
      "source": [
        "from sklearn.model_selection import train_test_split\n",
        "\n",
        "X = boston_df[['RM', 'DIS']].values       # 説明変数\n",
        "Y = boston_df['MEDV'].values         # 目的変数\n",
        "\n",
        "X_train, X_test, Y_train, Y_test = train_test_split(X, Y, train_size = 0.7, test_size = 0.3, random_state = 0) # データを学習用と検証用に分割\n",
        "\n",
        "lr = LinearRegression()\n",
        "lr.fit(X_train, Y_train) # 線形モデルの重みを学習\n"
      ],
      "execution_count": 39,
      "outputs": [
        {
          "output_type": "execute_result",
          "data": {
            "text/plain": [
              "LinearRegression(copy_X=True, fit_intercept=True, n_jobs=None, normalize=False)"
            ]
          },
          "metadata": {
            "tags": []
          },
          "execution_count": 39
        }
      ]
    },
    {
      "cell_type": "code",
      "metadata": {
        "id": "tsF3uINqXHb_",
        "colab_type": "code",
        "colab": {
          "base_uri": "https://localhost:8080/",
          "height": 68
        },
        "outputId": "0ffa5c29-584b-46ec-b9f4-7492b04b7484"
      },
      "source": [
        "print('coefficient = ', lr.coef_[0]) # 説明変数の係数を出力\n",
        "print('coefficient = ', lr.coef_[1]) # 説明変数の係数を出力\n",
        "print('intercept = ', lr.intercept_) # 切片を出力\n",
        "\n",
        "coefficient0 =  lr.coef_[0]\n",
        "coefficient1 =  lr.coef_[1]\n",
        "intercept =  lr.intercept_"
      ],
      "execution_count": 40,
      "outputs": [
        {
          "output_type": "stream",
          "text": [
            "coefficient =  9.023216413573369\n",
            "coefficient =  0.5320405592806157\n",
            "intercept =  -36.17859845830708\n"
          ],
          "name": "stdout"
        }
      ]
    },
    {
      "cell_type": "code",
      "metadata": {
        "id": "jrfZmfgYXIFe",
        "colab_type": "code",
        "colab": {
          "base_uri": "https://localhost:8080/",
          "height": 85
        },
        "outputId": "f53b4491-473c-417c-e07d-97fa4af8909b"
      },
      "source": [
        "Y_pred = lr.predict(X_test) # 検証データを用いて目的変数を予測\n",
        "Y_train_pred = lr.predict(X_train) # 学習データに対する目的変数を予測\n",
        "\n",
        "# 訓練データを用いて評価した場合は、通常はテストデータで評価した場合よりも高い精度になります。\n",
        "\n",
        "print('MSE train data: ', mean_squared_error(Y_train, Y_train_pred)) # 学習データを用いたときの平均二乗誤差を出力、小さいはず\n",
        "print('MSE test data: ', mean_squared_error(Y_test, Y_pred))         # 検証データ、大きいはず\n",
        "\n",
        "print('r^2 train data: ', r2_score(Y_train, Y_train_pred))    # 大きいはず\n",
        "print('r^2 test data: ', r2_score(Y_test, Y_pred))    # 小さいはず"
      ],
      "execution_count": 41,
      "outputs": [
        {
          "output_type": "stream",
          "text": [
            "MSE train data:  40.99168636673498\n",
            "MSE test data:  46.432636201793585\n",
            "r^2 train data:  0.5164051005699691\n",
            "r^2 test data:  0.4423544531094703\n"
          ],
          "name": "stdout"
        }
      ]
    },
    {
      "cell_type": "code",
      "metadata": {
        "id": "cDn3NiGSY03Y",
        "colab_type": "code",
        "colab": {}
      },
      "source": [
        ""
      ],
      "execution_count": 0,
      "outputs": []
    }
  ]
}