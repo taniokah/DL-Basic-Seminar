{
  "nbformat": 4,
  "nbformat_minor": 0,
  "metadata": {
    "colab": {
      "name": "MNIST.ipynb",
      "version": "0.3.2",
      "provenance": [],
      "collapsed_sections": [],
      "include_colab_link": true
    },
    "kernelspec": {
      "name": "python3",
      "display_name": "Python 3"
    }
  },
  "cells": [
    {
      "cell_type": "markdown",
      "metadata": {
        "id": "view-in-github",
        "colab_type": "text"
      },
      "source": [
        "<a href=\"https://colab.research.google.com/github/taniokah/DL-Basic-Seminar/blob/master/MNIST.ipynb\" target=\"_parent\"><img src=\"https://colab.research.google.com/assets/colab-badge.svg\" alt=\"Open In Colab\"/></a>"
      ]
    },
    {
      "metadata": {
        "id": "7xvMK2dnPH8c",
        "colab_type": "text"
      },
      "cell_type": "markdown",
      "source": [
        "# MNIST Example\n",
        "\n",
        "## 手書き数字認識プログラム\n",
        "\n",
        "本サンプルは Keras (Tensorflow) を用いてMNISTデータを学習します。"
      ]
    },
    {
      "metadata": {
        "id": "nC5cZKVCPbby",
        "colab_type": "code",
        "colab": {
          "base_uri": "https://localhost:8080/",
          "height": 290
        },
        "outputId": "0c270cb5-57e5-4b6a-fe85-f32de4bdb2b8"
      },
      "cell_type": "code",
      "source": [
        "# coding: utf-8\n",
        "# MNISTサンプル\n",
        "\n",
        "# Kerasをインポート\n",
        "import keras\n",
        "\n",
        "# MINISTのデータの他、必要なモジュールをインポート\n",
        "from keras.datasets import mnist\n",
        "from keras.models import Sequential\n",
        "from keras.layers.core import Dense, Dropout, Activation\n",
        "from keras.optimizers import RMSprop\n",
        "from keras.callbacks import EarlyStopping, CSVLogger\n",
        "%matplotlib inline\n",
        "import matplotlib.pyplot as plt\n",
        "\n",
        "# バッチサイズ、クラス数、エポック数を定義\n",
        "batch_size = 128\n",
        "num_classes = 10\n",
        "epochs = 20\n",
        "\n",
        "# MNISTデータを読込\n",
        "(x_train, y_train), (x_test, y_test) = mnist.load_data()\n",
        "\n",
        "# MNISTデータのうち10枚だけ表示\n",
        "for i in range(10):\n",
        "    plt.subplot(2, 5, i+1)\n",
        "    plt.title(\"M_%d\" % i)\n",
        "    plt.axis(\"off\")\n",
        "    plt.imshow(x_train[i].reshape(28, 28), cmap=None)\n",
        "plt.show()\n"
      ],
      "execution_count": 1,
      "outputs": [
        {
          "output_type": "stream",
          "text": [
            "Using TensorFlow backend.\n"
          ],
          "name": "stderr"
        },
        {
          "output_type": "stream",
          "text": [
            "Downloading data from https://s3.amazonaws.com/img-datasets/mnist.npz\n",
            "11493376/11490434 [==============================] - 0s 0us/step\n"
          ],
          "name": "stdout"
        },
        {
          "output_type": "display_data",
          "data": {
            "image/png": "[encoded data removed]",
            "text/plain": [
              "<Figure size 432x288 with 10 Axes>"
            ]
          },
          "metadata": {
            "tags": []
          }
        }
      ]
    },
    {
      "metadata": {
        "id": "8wLBaaAJPwN8",
        "colab_type": "code",
        "colab": {
          "base_uri": "https://localhost:8080/",
          "height": 85
        },
        "outputId": "91ff018f-d4fb-4cd2-92ab-e390e7a7414c"
      },
      "cell_type": "code",
      "source": [
        "# 画像サイズを正規化\n",
        "x_train = x_train.reshape(60000, 784).astype('float32')\n",
        "x_test = x_test.reshape(10000, 784).astype('float32')\n",
        "x_train /= 255\n",
        "x_test /= 255\n",
        "y_train = keras.utils.to_categorical(y_train, num_classes)\n",
        "y_test = keras.utils.to_categorical(y_test, num_classes)\n",
        "\n",
        "# 確認のために表示\n",
        "print(x_train.shape)\n",
        "print(y_train.shape)\n",
        "print(x_test.shape)\n",
        "print(y_test.shape)\n"
      ],
      "execution_count": 2,
      "outputs": [
        {
          "output_type": "stream",
          "text": [
            "(60000, 784)\n",
            "(60000, 10)\n",
            "(10000, 784)\n",
            "(10000, 10)\n"
          ],
          "name": "stdout"
        }
      ]
    },
    {
      "metadata": {
        "id": "39DDsB6qPzmp",
        "colab_type": "code",
        "colab": {
          "base_uri": "https://localhost:8080/",
          "height": 530
        },
        "outputId": "ef3d75c4-a11c-45f6-d3b3-898feb64b5c4"
      },
      "cell_type": "code",
      "source": [
        "# モデルを作成\n",
        "model = Sequential()\n",
        "model.add(Dense(512, input_shape=(784, )))\n",
        "model.add(Activation('relu'))\n",
        "model.add(Dropout(0.2))\n",
        "model.add(Dense(512))\n",
        "model.add(Activation('relu'))\n",
        "model.add(Dropout(0.2))\n",
        "model.add(Dense(10))\n",
        "model.add(Activation('softmax'))\n",
        "\n",
        "# サマリーを出力\n",
        "model.summary()\n"
      ],
      "execution_count": 3,
      "outputs": [
        {
          "output_type": "stream",
          "text": [
            "WARNING:tensorflow:From /usr/local/lib/python3.6/dist-packages/tensorflow/python/framework/op_def_library.py:263: colocate_with (from tensorflow.python.framework.ops) is deprecated and will be removed in a future version.\n",
            "Instructions for updating:\n",
            "Colocations handled automatically by placer.\n",
            "WARNING:tensorflow:From /usr/local/lib/python3.6/dist-packages/keras/backend/tensorflow_backend.py:3445: calling dropout (from tensorflow.python.ops.nn_ops) with keep_prob is deprecated and will be removed in a future version.\n",
            "Instructions for updating:\n",
            "Please use `rate` instead of `keep_prob`. Rate should be set to `rate = 1 - keep_prob`.\n",
            "_________________________________________________________________\n",
            "Layer (type)                 Output Shape              Param #   \n",
            "=================================================================\n",
            "dense_1 (Dense)              (None, 512)               401920    \n",
            "_________________________________________________________________\n",
            "activation_1 (Activation)    (None, 512)               0         \n",
            "_________________________________________________________________\n",
            "dropout_1 (Dropout)          (None, 512)               0         \n",
            "_________________________________________________________________\n",
            "dense_2 (Dense)              (None, 512)               262656    \n",
            "_________________________________________________________________\n",
            "activation_2 (Activation)    (None, 512)               0         \n",
            "_________________________________________________________________\n",
            "dropout_2 (Dropout)          (None, 512)               0         \n",
            "_________________________________________________________________\n",
            "dense_3 (Dense)              (None, 10)                5130      \n",
            "_________________________________________________________________\n",
            "activation_3 (Activation)    (None, 10)                0         \n",
            "=================================================================\n",
            "Total params: 669,706\n",
            "Trainable params: 669,706\n",
            "Non-trainable params: 0\n",
            "_________________________________________________________________\n"
          ],
          "name": "stdout"
        }
      ]
    },
    {
      "metadata": {
        "id": "svtQFrJ5P2xq",
        "colab_type": "code",
        "colab": {
          "base_uri": "https://localhost:8080/",
          "height": 411
        },
        "outputId": "1ba6a508-ad23-4ed0-b9bb-6c87a9b4d969"
      },
      "cell_type": "code",
      "source": [
        "# モデルのコンパイル\n",
        "model.compile(loss='categorical_crossentropy',\n",
        "              optimizer=RMSprop(),\n",
        "              metrics=['accuracy'])\n",
        "\n",
        "es = EarlyStopping(monitor='val_loss', patience=2)\n",
        "csv_logger = CSVLogger('training.log')\n",
        "hist = model.fit(x_train, y_train,\n",
        "                 batch_size=batch_size,\n",
        "                 epochs=epochs,\n",
        "                 verbose=1,\n",
        "                 validation_split=0.1,\n",
        "                 callbacks=[es, csv_logger])\n",
        "\n",
        "# 学習を実行\n",
        "score = model.evaluate(x_test, y_test, verbose=0)\n",
        "print('test loss:', score[0])\n",
        "print('test acc:', score[1])\n"
      ],
      "execution_count": 4,
      "outputs": [
        {
          "output_type": "stream",
          "text": [
            "WARNING:tensorflow:From /usr/local/lib/python3.6/dist-packages/tensorflow/python/ops/math_ops.py:3066: to_int32 (from tensorflow.python.ops.math_ops) is deprecated and will be removed in a future version.\n",
            "Instructions for updating:\n",
            "Use tf.cast instead.\n",
            "Train on 54000 samples, validate on 6000 samples\n",
            "Epoch 1/20\n",
            "54000/54000 [==============================] - 8s 156us/step - loss: 0.2595 - acc: 0.9199 - val_loss: 0.1194 - val_acc: 0.9623\n",
            "Epoch 2/20\n",
            "54000/54000 [==============================] - 9s 165us/step - loss: 0.1081 - acc: 0.9676 - val_loss: 0.0930 - val_acc: 0.9722\n",
            "Epoch 3/20\n",
            "54000/54000 [==============================] - 9s 161us/step - loss: 0.0802 - acc: 0.9760 - val_loss: 0.0857 - val_acc: 0.9743\n",
            "Epoch 4/20\n",
            "54000/54000 [==============================] - 8s 156us/step - loss: 0.0636 - acc: 0.9810 - val_loss: 0.0764 - val_acc: 0.9795\n",
            "Epoch 5/20\n",
            "54000/54000 [==============================] - 8s 157us/step - loss: 0.0531 - acc: 0.9839 - val_loss: 0.0779 - val_acc: 0.9815\n",
            "Epoch 6/20\n",
            "54000/54000 [==============================] - 9s 159us/step - loss: 0.0467 - acc: 0.9855 - val_loss: 0.0661 - val_acc: 0.9850\n",
            "Epoch 7/20\n",
            "54000/54000 [==============================] - 8s 156us/step - loss: 0.0385 - acc: 0.9885 - val_loss: 0.0761 - val_acc: 0.9827\n",
            "Epoch 8/20\n",
            "54000/54000 [==============================] - 8s 157us/step - loss: 0.0356 - acc: 0.9898 - val_loss: 0.0727 - val_acc: 0.9858\n",
            "test loss: 0.07733527078048119\n",
            "test acc: 0.9834\n"
          ],
          "name": "stdout"
        }
      ]
    },
    {
      "metadata": {
        "id": "1On29B0BQKcd",
        "colab_type": "code",
        "colab": {
          "base_uri": "https://localhost:8080/",
          "height": 279
        },
        "outputId": "56eb77cc-520a-4f7d-c009-15493ac3f9fb"
      },
      "cell_type": "code",
      "source": [
        "# 学習結果を表示\n",
        "loss = hist.history['loss']\n",
        "val_loss = hist.history['val_loss']\n",
        "epochs = len(loss)\n",
        "plt.plot(range(epochs), loss, marker='.', label='loss(training data)')\n",
        "plt.plot(range(epochs), val_loss, marker='.', label='val_loss(evaluationdata)')\n",
        "plt.legend(loc='best')\n",
        "plt.grid()\n",
        "plt.xlabel('epoch')\n",
        "plt.ylabel('loss')\n",
        "plt.show()\n"
      ],
      "execution_count": 5,
      "outputs": [
        {
          "output_type": "display_data",
          "data": {
            "image/png": "[encoded data removed]",
            "text/plain": [
              "<Figure size 432x288 with 1 Axes>"
            ]
          },
          "metadata": {
            "tags": []
          }
        }
      ]
    },
    {
      "metadata": {
        "id": "H1JAotdrQSvo",
        "colab_type": "code",
        "colab": {
          "base_uri": "https://localhost:8080/",
          "height": 239
        },
        "outputId": "5144e622-5a8f-4807-b74a-a02caa922ee5"
      },
      "cell_type": "code",
      "source": [
        "# MNISTデータのうち10枚だけ判定\n",
        "for i in range(10):\n",
        "    plt.subplot(2, 5, i+1)\n",
        "    pred = model.predict_classes(x_test[i:i+1])\n",
        "    plt.title(\"P_%d\" % pred[0])\n",
        "    plt.axis(\"off\")\n",
        "    plt.imshow(x_test[i].reshape(28, 28), cmap=None)\n",
        "plt.show()\n"
      ],
      "execution_count": 6,
      "outputs": [
        {
          "output_type": "display_data",
          "data": {
            "image/png": "[encoded data removed]",
            "text/plain": [
              "<Figure size 432x288 with 10 Axes>"
            ]
          },
          "metadata": {
            "tags": []
          }
        }
      ]
    },
    {
      "metadata": {
        "id": "Qsm9qvm7QUyA",
        "colab_type": "code",
        "colab": {}
      },
      "cell_type": "code",
      "source": [
        ""
      ],
      "execution_count": 0,
      "outputs": []
    }
  ]
}