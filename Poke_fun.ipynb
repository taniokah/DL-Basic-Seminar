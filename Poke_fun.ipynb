{
  "nbformat": 4,
  "nbformat_minor": 0,
  "metadata": {
    "colab": {
      "name": "Poke-fun.ipynb",
      "provenance": [],
      "include_colab_link": true
    },
    "kernelspec": {
      "name": "python3",
      "display_name": "Python 3"
    }
  },
  "cells": [
    {
      "cell_type": "markdown",
      "metadata": {
        "id": "view-in-github",
        "colab_type": "text"
      },
      "source": [
        "<a href=\"https://colab.research.google.com/github/taniokah/DL-Basic-Seminar/blob/master/Poke_fun.ipynb\" target=\"_parent\"><img src=\"https://colab.research.google.com/assets/colab-badge.svg\" alt=\"Open In Colab\"/></a>"
      ]
    },
    {
      "cell_type": "code",
      "metadata": {
        "id": "aMH9zk5OnKko",
        "colab_type": "code",
        "colab": {
          "base_uri": "https://localhost:8080/",
          "height": 34
        },
        "outputId": "ce2595a7-a8ac-46f5-e751-50c5017ecf40"
      },
      "source": [
        "pip --version"
      ],
      "execution_count": 1,
      "outputs": [
        {
          "output_type": "stream",
          "text": [
            "pip 19.3.1 from /usr/local/lib/python3.6/dist-packages/pip (python 3.6)\n"
          ],
          "name": "stdout"
        }
      ]
    },
    {
      "cell_type": "code",
      "metadata": {
        "id": "GYJf1Om9nVI7",
        "colab_type": "code",
        "colab": {
          "base_uri": "https://localhost:8080/",
          "height": 309
        },
        "outputId": "217125a8-69c7-40ee-a7b1-28eba31956ff"
      },
      "source": [
        "pip install requests pokebase pillow"
      ],
      "execution_count": 2,
      "outputs": [
        {
          "output_type": "stream",
          "text": [
            "Requirement already satisfied: requests in /usr/local/lib/python3.6/dist-packages (2.21.0)\n",
            "Collecting pokebase\n",
            "  Downloading https://files.pythonhosted.org/packages/53/46/5f3bd6926dfbf7c8db7eab81af01267d6fec4aee3e88c889d61ada7eabb7/pokebase-1.2.0.tar.gz\n",
            "Requirement already satisfied: pillow in /usr/local/lib/python3.6/dist-packages (4.3.0)\n",
            "Requirement already satisfied: idna<2.9,>=2.5 in /usr/local/lib/python3.6/dist-packages (from requests) (2.8)\n",
            "Requirement already satisfied: certifi>=2017.4.17 in /usr/local/lib/python3.6/dist-packages (from requests) (2019.9.11)\n",
            "Requirement already satisfied: urllib3<1.25,>=1.21.1 in /usr/local/lib/python3.6/dist-packages (from requests) (1.24.3)\n",
            "Requirement already satisfied: chardet<3.1.0,>=3.0.2 in /usr/local/lib/python3.6/dist-packages (from requests) (3.0.4)\n",
            "Requirement already satisfied: olefile in /usr/local/lib/python3.6/dist-packages (from pillow) (0.46)\n",
            "Building wheels for collected packages: pokebase\n",
            "  Building wheel for pokebase (setup.py) ... \u001b[?25l\u001b[?25hdone\n",
            "  Created wheel for pokebase: filename=pokebase-1.2.0-cp36-none-any.whl size=10519 sha256=46b68fdcb67814a7c6c823d48a48afa7d346312bff461331dcbbf3fb44dc8bef\n",
            "  Stored in directory: /root/.cache/pip/wheels/24/b8/1e/a589633745d72e050e26776779f1a8fcfe64617c20dbab2d0c\n",
            "Successfully built pokebase\n",
            "Installing collected packages: pokebase\n",
            "Successfully installed pokebase-1.2.0\n"
          ],
          "name": "stdout"
        }
      ]
    },
    {
      "cell_type": "code",
      "metadata": {
        "id": "6ZtukySmnbwy",
        "colab_type": "code",
        "colab": {
          "base_uri": "https://localhost:8080/",
          "height": 34
        },
        "outputId": "cd4397ca-5682-4646-b242-7aebb9f16703"
      },
      "source": [
        "from pokebase import pokemon\n",
        "from requests import get\n",
        "from PIL import Image\n",
        "from io import BytesIO\n",
        "\n",
        "def fetch_pokemon():\n",
        "  name = input('Which Pokemon do you want to fetch? ')\n",
        "  poke = pokemon(name)\n",
        "  print(name + ' weighs ' + str(poke.weight))\n",
        "  print(poke.sprites)\n",
        "  pic = get(poke.sprites.front_default).content\n",
        "  image = Image.open(BytesIO(pic))\n",
        "\n",
        "#fetch_pokemon()\n",
        "\n",
        "def fetch():\n",
        "    name = input('Which Pokemon do you want to fetch? ')\n",
        "    poke = pokemon(name)\n",
        "    pic = get(poke.sprites.front_default).content\n",
        "    image = Image.open(BytesIO(pic))\n",
        "    image.save('poke.gif')\n",
        "\n",
        "fetch()"
      ],
      "execution_count": 9,
      "outputs": [
        {
          "output_type": "stream",
          "text": [
            "Which Pokemon do you want to fetch? pikachu\n"
          ],
          "name": "stdout"
        }
      ]
    },
    {
      "cell_type": "code",
      "metadata": {
        "id": "Ww8cV1scoWnZ",
        "colab_type": "code",
        "colab": {
          "base_uri": "https://localhost:8080/",
          "height": 122
        },
        "outputId": "dc4a4495-c832-4e7e-c56c-ff2ffeb480a3"
      },
      "source": [
        "pip install guizero"
      ],
      "execution_count": 10,
      "outputs": [
        {
          "output_type": "stream",
          "text": [
            "Collecting guizero\n",
            "\u001b[?25l  Downloading https://files.pythonhosted.org/packages/b0/eb/c58693afb94bc1e5f5f77d0f8e6b4e6dc84006fbfcb66b10fb81aef39f69/guizero-1.1.0-py3-none-any.whl (41kB)\n",
            "\r\u001b[K     |███████▉                        | 10kB 18.2MB/s eta 0:00:01\r\u001b[K     |███████████████▋                | 20kB 1.8MB/s eta 0:00:01\r\u001b[K     |███████████████████████▍        | 30kB 2.6MB/s eta 0:00:01\r\u001b[K     |███████████████████████████████▎| 40kB 1.7MB/s eta 0:00:01\r\u001b[K     |████████████████████████████████| 51kB 1.7MB/s \n",
            "\u001b[?25hInstalling collected packages: guizero\n",
            "Successfully installed guizero-1.1.0\n"
          ],
          "name": "stdout"
        }
      ]
    },
    {
      "cell_type": "code",
      "metadata": {
        "id": "-z9Vs3a95Q2r",
        "colab_type": "code",
        "colab": {}
      },
      "source": [
        "from guizero import App, TextBox, PushButton, Picture\n",
        "from pokebase import pokemon\n",
        "from requests import get\n",
        "from PIL import Image\n",
        "from io import BytesIO\n",
        "\n",
        "def fetch_pokemon():\n",
        "    name = input('Which Pokemon do you want to fetch? ')\n",
        "    poke = pokemon(name)\n",
        "    pic = get(poke.sprites.front_default).content\n",
        "    image = Image.open(BytesIO(pic))\n",
        "    image.save('poke.gif')\n",
        "    \n",
        "\n",
        "app = App(title='Pokemon Fetcher', width=300, height=200)\n",
        "input_box = TextBox(app, text='Name')\n",
        "icon = Picture(app, image=\"poke.gif\")\n",
        "submit = PushButton(app, text='Submit')\n",
        "\n",
        "app.display()"
      ],
      "execution_count": 0,
      "outputs": []
    },
    {
      "cell_type": "code",
      "metadata": {
        "id": "BX60FbXL5Vm6",
        "colab_type": "code",
        "colab": {}
      },
      "source": [
        "from guizero import App, TextBox, PushButton, Picture\n",
        "from pokebase import pokemon\n",
        "from requests import get\n",
        "from PIL import Image\n",
        "from io import BytesIO\n",
        "\n",
        "def fetch_pokemon():\n",
        "    name = input_box.value.lower()\n",
        "    poke = pokemon(name)\n",
        "    pic = get(poke.sprites.front_default).content\n",
        "    image = Image.open(BytesIO(pic))\n",
        "    image.save('poke.gif')\n",
        "    icon.value = 'poke.gif'    \n",
        "\n",
        "app = App(title='Pokemon Fetcher', width=300, height=200)\n",
        "input_box = TextBox(app, text='Name')\n",
        "icon = Picture(app, image=\"poke.gif\")\n",
        "submit = PushButton(app, command=fetch_pokemon, text='Submit')\n",
        "\n",
        "app.display()"
      ],
      "execution_count": 0,
      "outputs": []
    }
  ]
}