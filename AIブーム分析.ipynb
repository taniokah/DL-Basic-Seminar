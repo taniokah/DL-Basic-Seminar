{
  "nbformat": 4,
  "nbformat_minor": 0,
  "metadata": {
    "colab": {
      "name": "AIブーム分析.ipynb",
      "provenance": [],
      "toc_visible": true,
      "machine_shape": "hm",
      "authorship_tag": "ABX9TyPedYZJKYBQAigkQNBOI0j0",
      "include_colab_link": true
    },
    "kernelspec": {
      "name": "python3",
      "display_name": "Python 3"
    }
  },
  "cells": [
    {
      "cell_type": "markdown",
      "metadata": {
        "id": "view-in-github",
        "colab_type": "text"
      },
      "source": [
        "<a href=\"https://colab.research.google.com/github/taniokah/DL-Basic-Seminar/blob/master/AI%E3%83%96%E3%83%BC%E3%83%A0%E5%88%86%E6%9E%90.ipynb\" target=\"_parent\"><img src=\"https://colab.research.google.com/assets/colab-badge.svg\" alt=\"Open In Colab\"/></a>"
      ]
    },
    {
      "cell_type": "markdown",
      "metadata": {
        "id": "5bXkqkqAhMmh",
        "colab_type": "text"
      },
      "source": [
        "#AIブーム分析\n",
        "\n",
        "https://ohke.hateblo.jp/entry/2019/06/01/120000\n",
        "https://qiita.com/a2kiti/items/a93d762bd89a84316c12\n",
        "\n",
        "1. まず、Sudachiのword2vecモデルをダウンロードする\n",
        "2. 対象となる新聞記事を読み込む\n",
        "3. 新聞記事からAIに近い単語を上位10個ずつ抽出する\n",
        "4. 単語ベクトルとその頻度のリストを作る\n",
        "5. 時系列トピックモデルを用いて分析する\n"
      ]
    },
    {
      "cell_type": "code",
      "metadata": {
        "id": "pPhrofy5f4XO",
        "colab_type": "code",
        "colab": {
          "base_uri": "https://localhost:8080/",
          "height": 224
        },
        "outputId": "9e7ef609-6f2c-4c7c-d091-2172808fac10"
      },
      "source": [
        "!wget https://object-storage.tyo2.conoha.io/v1/nc_2520839e1f9641b08211a5c85243124a/word_vector/nwjc.sudachi_full_abc_w2v.20190314.tar.gz"
      ],
      "execution_count": 1,
      "outputs": [
        {
          "output_type": "stream",
          "text": [
            "--2020-01-28 10:50:54--  https://object-storage.tyo2.conoha.io/v1/nc_2520839e1f9641b08211a5c85243124a/word_vector/nwjc.sudachi_full_abc_w2v.20190314.tar.gz\n",
            "Resolving object-storage.tyo2.conoha.io (object-storage.tyo2.conoha.io)... 157.7.224.17\n",
            "Connecting to object-storage.tyo2.conoha.io (object-storage.tyo2.conoha.io)|157.7.224.17|:443... connected.\n",
            "HTTP request sent, awaiting response... 200 OK\n",
            "Length: 5212195768 (4.9G) [application/x-www-form-urlencoded]\n",
            "Saving to: ‘nwjc.sudachi_full_abc_w2v.20190314.tar.gz’\n",
            "\n",
            "nwjc.sudachi_full_a 100%[===================>]   4.85G  19.1MB/s    in 4m 27s  \n",
            "\n",
            "2020-01-28 10:55:22 (18.6 MB/s) - ‘nwjc.sudachi_full_abc_w2v.20190314.tar.gz’ saved [5212195768/5212195768]\n",
            "\n"
          ],
          "name": "stdout"
        }
      ]
    },
    {
      "cell_type": "code",
      "metadata": {
        "id": "-vQfLut0gCk4",
        "colab_type": "code",
        "colab": {
          "base_uri": "https://localhost:8080/",
          "height": 68
        },
        "outputId": "dc5193cc-b82e-4e1d-8514-6700f25e6541"
      },
      "source": [
        "!tar -zxvf ./nwjc.sudachi_full_abc_w2v.20190314.tar.gz"
      ],
      "execution_count": 2,
      "outputs": [
        {
          "output_type": "stream",
          "text": [
            "nwjc_sudachi_full_abc_w2v/\n",
            "nwjc_sudachi_full_abc_w2v/nwjc.sudachi_full_abc_w2v.txt\n",
            "nwjc_sudachi_full_abc_w2v/LICENSE\n"
          ],
          "name": "stdout"
        }
      ]
    },
    {
      "cell_type": "code",
      "metadata": {
        "id": "wh5yAlj-gPCF",
        "colab_type": "code",
        "colab": {
          "base_uri": "https://localhost:8080/",
          "height": 68
        },
        "outputId": "4da1b954-69b9-44f6-a118-e5fc1ac4f473"
      },
      "source": [
        "!ls -l nwjc_sudachi_full_abc_w2v/"
      ],
      "execution_count": 3,
      "outputs": [
        {
          "output_type": "stream",
          "text": [
            "total 12229548\n",
            "-rw-rw-r-- 1 1008 1008       11420 Mar 20  2019 LICENSE\n",
            "-rw-rw-r-- 1 1008 1008 12523039651 Mar 20  2019 nwjc.sudachi_full_abc_w2v.txt\n"
          ],
          "name": "stdout"
        }
      ]
    },
    {
      "cell_type": "code",
      "metadata": {
        "id": "SY_mN-IshE7n",
        "colab_type": "code",
        "colab": {
          "base_uri": "https://localhost:8080/",
          "height": 71
        },
        "outputId": "6dec41f2-b7dc-443a-93be-cb280ebad497"
      },
      "source": [
        "!head -n2 nwjc_sudachi_full_abc_w2v/nwjc.sudachi_full_abc_w2v.txt"
      ],
      "execution_count": 4,
      "outputs": [
        {
          "output_type": "stream",
          "text": [
            "3644628 300\n",
            "の -0.08509623 -0.02170456 -0.00595318 0.17987297 -0.02470185 -0.06039717 0.16489118 0.18576832 -0.13870764 -0.17454691 0.08653757 -0.11530939 -0.0357993 0.0308698 -0.11082912 0.04128339 0.00738431 0.00342017 -0.00673456 0.03348965 -0.18876095 0.05184764 0.13508447 0.24196455 -0.07351201 -0.07903086 -0.01973874 -0.24246444 0.03141621 -0.11729659 -0.04126292 -0.20383213 -0.03109288 0.06765312 -0.15020953 -0.11498244 0.03988069 0.20287995 -0.14308368 -0.05135961 -0.15592268 0.05364651 -0.11668575 0.0505892 -0.04575419 0.03296537 -0.03033004 -0.0481239 0.13578212 -0.03111291 -0.15257519 -0.10075521 -0.07440718 -0.12524064 -0.14464405 -0.00155862 0.11825287 0.01658496 0.27135071 -0.07724451 0.01130517 0.03584538 0.01659033 0.19819288 0.01558947 0.07239497 -0.05149494 0.08688559 -0.03712051 -0.07294089 -0.00820937 -0.00907754 -0.03328617 -0.09273465 0.07537545 -0.05137397 0.07578564 -0.03124459 0.05484971 -0.07136369 -0.02457538 0.15481928 0.11072636 -0.00225826 -0.04312619 -0.09835435 0.10180111 -0.11248083 -0.01831779 -0.15895568 0.06585996 0.06583007 -0.02607597 0.07505219 -0.08154492 0.08415596 -0.29794207 0.22361974 0.03844924 -0.02409133 -0.0380278 0.05453932 -0.10982726 0.10995556 0.11009834 0.04420403 -0.05088469 0.06004704 0.01410721 0.10482296 -0.34675267 0.11893709 0.08400187 0.17349045 0.07026103 0.02319975 -0.07899326 -0.09765992 0.03738321 0.10687834 -0.13417427 0.15635394 0.07292477 0.09719512 -0.04300312 0.03135416 0.25681239 0.07999622 -0.10297124 -0.0881549 0.065386 -0.04746811 0.02169232 0.17451568 -0.06795947 -0.30644616 -0.06507952 0.13956924 0.18511888 -0.1142631 0.04402548 0.03508638 -0.12334315 0.00233285 -0.14110087 -0.26152349 -0.12575777 0.10243788 0.03307959 0.08372588 0.2012478 0.02123618 0.0598808 -0.12974231 0.01239459 -0.0255327 -0.11687197 -0.19145888 -0.10097241 0.01828799 0.16954349 -0.18916406 -0.02960817 0.16373363 -0.08409271 0.10939084 -0.10946602 -0.10229198 0.00907564 0.16076608 -0.19279352 0.00508998 -0.0759033 0.01311471 0.1166984 0.24017371 0.06020693 0.00122038 -0.17049754 -0.01034435 -0.09591749 0.2055098 -0.07516637 -0.10714629 -0.17098667 -0.02943251 0.05814891 0.06983829 0.00748073 -0.06156648 0.05453764 -0.07840106 0.1749652 0.25106817 -0.06903429 -0.27245611 0.00350698 0.14503795 -0.06646442 0.0329436 -0.02063798 0.04743206 0.18886574 0.02028349 -0.10190877 -0.18188755 0.27589551 -0.00080682 0.0066181 -0.08410311 -0.25576827 0.07407854 -0.05438402 0.18853284 0.08088059 0.08862372 -0.0970456 0.03529922 0.05947638 0.09120731 0.1907116 0.03028401 -0.06710273 -0.11471934 -0.13359009 0.00544884 -0.01073137 -0.01462306 -0.08237646 0.02719796 0.02005923 -0.11376375 0.18927906 0.0539184 0.11428301 -0.11349536 0.13334441 0.01524157 -0.00129609 0.12784146 -0.06973457 0.01259846 -0.1185156 0.14096615 0.07976481 -0.06855894 0.06703436 -0.15839098 0.07836515 0.05997906 -0.01760146 -0.04950007 0.11396813 0.03565592 0.04952743 0.00099573 0.0437855 0.01601827 0.15287897 -0.08865725 0.04313564 0.13215388 0.01210132 -0.05744287 0.04421859 0.2098541 -0.19167227 -0.16390941 -0.00657649 -0.07565701 -0.13576873 -0.11283566 -0.13851033 0.05974858 -0.16010183 -0.01187299 0.08090579 0.13298063 0.03606028 0.25641844 0.07958484 -0.09526003 0.08859847 -0.1579143 0.09659959 -0.02905053 0.00727161 -0.02406846 -0.03045797 -0.02122181 0.02056854 0.09185477 -0.10587828 -0.06060067 0.07496267 -0.14777204 0.10103506 0.01632762 -0.03348994 0.17903616\n"
          ],
          "name": "stdout"
        }
      ]
    },
    {
      "cell_type": "code",
      "metadata": {
        "id": "cMUauoB2iY3H",
        "colab_type": "code",
        "colab": {}
      },
      "source": [
        "#!pip install gensim"
      ],
      "execution_count": 0,
      "outputs": []
    },
    {
      "cell_type": "code",
      "metadata": {
        "id": "oOeM-Xsuh44b",
        "colab_type": "code",
        "colab": {
          "base_uri": "https://localhost:8080/",
          "height": 88
        },
        "outputId": "89cbe4f6-ac5a-45c2-a4d4-4707fc6053ab"
      },
      "source": [
        "# モデルのロード\n",
        "from gensim.models import KeyedVectors\n",
        "from gensim.test.utils import datapath\n",
        "\n",
        "nwjc_model = KeyedVectors.load_word2vec_format('/content/nwjc_sudachi_full_abc_w2v/nwjc.sudachi_full_abc_w2v.txt', binary=False)\n",
        "\n",
        "#nwjc_model = KeyedVectors.load_word2vec_format(\n",
        "#    datapath('/content/nwjc_sudachi_full_abc_w2v/nwjc.sudachi_full_abc_w2v.txt'),\n",
        "#    binary=False\n",
        "#)\n",
        "\n",
        "# 語数, 次元数\n",
        "print(len(nwjc_model.vocab), nwjc_model.vector_size)  # 3644628 300"
      ],
      "execution_count": 6,
      "outputs": [
        {
          "output_type": "stream",
          "text": [
            "/usr/local/lib/python3.6/dist-packages/smart_open/smart_open_lib.py:402: UserWarning: This function is deprecated, use smart_open.open instead. See the migration notes for details: https://github.com/RaRe-Technologies/smart_open/blob/master/README.rst#migrating-to-the-new-open-function\n",
            "  'See the migration notes for details: %s' % _MIGRATION_NOTES_URL\n"
          ],
          "name": "stderr"
        },
        {
          "output_type": "stream",
          "text": [
            "3644628 300\n"
          ],
          "name": "stdout"
        }
      ]
    },
    {
      "cell_type": "code",
      "metadata": {
        "id": "d3vnxWCZorA5",
        "colab_type": "code",
        "colab": {
          "base_uri": "https://localhost:8080/",
          "height": 105
        },
        "outputId": "3d9fd963-a9be-475e-89e5-345305722b3d"
      },
      "source": [
        "print(nwjc_model.most_similar('平成', topn=5))\n",
        "# [('年度', 0.8092531561851501),\n",
        "#  ('平成元年', 0.7409119009971619),\n",
        "#  ('同年', 0.6042426824569702),\n",
        "#  ('基本計画', 0.5917632579803467),\n",
        "#  ('別紙', 0.590812087059021)]\n",
        "\n",
        "print(nwjc_model.most_similar(positive=['兄弟', '女'], negative=['男'], topn=5))\n",
        "# [('姉妹', 0.7687463164329529),\n",
        "#  ('兄妹', 0.7484474182128906),\n",
        "#  ('姉弟', 0.715774416923523),\n",
        "#  ('双子', 0.642593264579773),\n",
        "#  ('妹', 0.6402267217636108)]"
      ],
      "execution_count": 7,
      "outputs": [
        {
          "output_type": "stream",
          "text": [
            "/usr/local/lib/python3.6/dist-packages/gensim/matutils.py:737: FutureWarning: Conversion of the second argument of issubdtype from `int` to `np.signedinteger` is deprecated. In future, it will be treated as `np.int64 == np.dtype(int).type`.\n",
            "  if np.issubdtype(vec.dtype, np.int):\n"
          ],
          "name": "stderr"
        },
        {
          "output_type": "stream",
          "text": [
            "[('年度', 0.8092531561851501), ('平成元年', 0.7409119009971619), ('同年', 0.6042426824569702), ('基本計画', 0.5917632579803467), ('別紙', 0.590812087059021)]\n",
            "[('姉妹', 0.7687463164329529), ('兄妹', 0.7484474182128906), ('姉弟', 0.715774416923523), ('双子', 0.642593264579773), ('妹', 0.6402267217636108)]\n"
          ],
          "name": "stdout"
        }
      ]
    },
    {
      "cell_type": "code",
      "metadata": {
        "id": "scJPEOW4owN9",
        "colab_type": "code",
        "colab": {
          "base_uri": "https://localhost:8080/",
          "height": 275
        },
        "outputId": "cc721019-6f6d-4278-d216-1183a2e8bbc0"
      },
      "source": [
        "!pip install SudachiPy"
      ],
      "execution_count": 9,
      "outputs": [
        {
          "output_type": "stream",
          "text": [
            "Collecting SudachiPy\n",
            "\u001b[?25l  Downloading https://files.pythonhosted.org/packages/04/c9/40bfb291a7995ad218451ef97083432f998b822e3ecbd9f586f593d2cfb6/SudachiPy-0.4.2-py3-none-any.whl (73kB)\n",
            "\r\u001b[K     |████▌                           | 10kB 26.2MB/s eta 0:00:01\r\u001b[K     |█████████                       | 20kB 1.8MB/s eta 0:00:01\r\u001b[K     |█████████████▍                  | 30kB 2.4MB/s eta 0:00:01\r\u001b[K     |█████████████████▉              | 40kB 1.7MB/s eta 0:00:01\r\u001b[K     |██████████████████████▎         | 51kB 2.0MB/s eta 0:00:01\r\u001b[K     |██████████████████████████▊     | 61kB 2.3MB/s eta 0:00:01\r\u001b[K     |███████████████████████████████▏| 71kB 2.6MB/s eta 0:00:01\r\u001b[K     |████████████████████████████████| 81kB 2.3MB/s \n",
            "\u001b[?25hCollecting dartsclone~=0.6.0\n",
            "  Downloading https://files.pythonhosted.org/packages/7d/4d/45acbe9d0795d8ceef0fee1f9ac2dcbf27dca3a0578a023fcdc3fef6fd89/dartsclone-0.6.tar.gz\n",
            "Requirement already satisfied: sortedcontainers~=2.1.0 in /usr/local/lib/python3.6/dist-packages (from SudachiPy) (2.1.0)\n",
            "Requirement already satisfied: Cython in /usr/local/lib/python3.6/dist-packages (from dartsclone~=0.6.0->SudachiPy) (0.29.14)\n",
            "Building wheels for collected packages: dartsclone\n",
            "  Building wheel for dartsclone (setup.py) ... \u001b[?25l\u001b[?25hdone\n",
            "  Created wheel for dartsclone: filename=dartsclone-0.6-cp36-cp36m-linux_x86_64.whl size=413254 sha256=c799b83e077e3d2ba16a48bbfb88ece61ed0b85d6ab9f3e3644ead2457e5b845\n",
            "  Stored in directory: /root/.cache/pip/wheels/be/cd/70/fe43307bf7398243155108f4f5a258ef336923d65ec4af93cd\n",
            "Successfully built dartsclone\n",
            "Installing collected packages: dartsclone, SudachiPy\n",
            "Successfully installed SudachiPy-0.4.2 dartsclone-0.6\n"
          ],
          "name": "stdout"
        }
      ]
    },
    {
      "cell_type": "code",
      "metadata": {
        "id": "0y6f7mtdC1QJ",
        "colab_type": "code",
        "colab": {
          "base_uri": "https://localhost:8080/",
          "height": 275
        },
        "outputId": "6f44536e-eb0f-4ff9-ed59-9d11b4233552"
      },
      "source": [
        "!pip install https://object-storage.tyo2.conoha.io/v1/nc_2520839e1f9641b08211a5c85243124a/sudachi/SudachiDict_core-20191224.tar.gz"
      ],
      "execution_count": 10,
      "outputs": [
        {
          "output_type": "stream",
          "text": [
            "Collecting https://object-storage.tyo2.conoha.io/v1/nc_2520839e1f9641b08211a5c85243124a/sudachi/SudachiDict_core-20191224.tar.gz\n",
            "\u001b[?25l  Downloading https://object-storage.tyo2.conoha.io/v1/nc_2520839e1f9641b08211a5c85243124a/sudachi/SudachiDict_core-20191224.tar.gz (70.7MB)\n",
            "\u001b[K     |████████████████████████████████| 70.7MB 60kB/s \n",
            "\u001b[?25hRequirement already satisfied: SudachiPy>=0.2.1 in /usr/local/lib/python3.6/dist-packages (from SudachiDict-core==20191224) (0.4.2)\n",
            "Requirement already satisfied: sortedcontainers~=2.1.0 in /usr/local/lib/python3.6/dist-packages (from SudachiPy>=0.2.1->SudachiDict-core==20191224) (2.1.0)\n",
            "Requirement already satisfied: dartsclone~=0.6.0 in /usr/local/lib/python3.6/dist-packages (from SudachiPy>=0.2.1->SudachiDict-core==20191224) (0.6)\n",
            "Requirement already satisfied: Cython in /usr/local/lib/python3.6/dist-packages (from dartsclone~=0.6.0->SudachiPy>=0.2.1->SudachiDict-core==20191224) (0.29.14)\n",
            "Building wheels for collected packages: SudachiDict-core\n",
            "  Building wheel for SudachiDict-core (setup.py) ... \u001b[?25l\u001b[?25hdone\n",
            "  Created wheel for SudachiDict-core: filename=SudachiDict_core-20191224-cp36-none-any.whl size=70876855 sha256=094191d18163296345a8522c3a480ba094c99f3b57026b028ddfc06f447071ab\n",
            "  Stored in directory: /root/.cache/pip/wheels/4c/88/5c/44c0deb66c147b881dab3fe061febbb301bdceab7e9b496479\n",
            "Successfully built SudachiDict-core\n",
            "Installing collected packages: SudachiDict-core\n",
            "Successfully installed SudachiDict-core-20191224\n"
          ],
          "name": "stdout"
        }
      ]
    },
    {
      "cell_type": "code",
      "metadata": {
        "id": "WdAgLPT5Dgt0",
        "colab_type": "code",
        "colab": {
          "base_uri": "https://localhost:8080/",
          "height": 289
        },
        "outputId": "2665b626-8a58-4151-bd94-b5e0812b7533"
      },
      "source": [
        "!sudachipy tokenize -h"
      ],
      "execution_count": 12,
      "outputs": [
        {
          "output_type": "stream",
          "text": [
            "usage: sudachipy tokenize [-h] [-r file] [-m {A,B,C}] [-o file] [-a] [-d] [-v]\n",
            "                          [file [file ...]]\n",
            "\n",
            "Tokenize Text\n",
            "\n",
            "positional arguments:\n",
            "  file           text written in utf-8\n",
            "\n",
            "optional arguments:\n",
            "  -h, --help     show this help message and exit\n",
            "  -r file        the setting file in JSON format\n",
            "  -m {A,B,C}     the mode of splitting\n",
            "  -o file        the output file\n",
            "  -a             print all of the fields\n",
            "  -d             print the debug information\n",
            "  -v, --version  print sudachipy version\n"
          ],
          "name": "stdout"
        }
      ]
    },
    {
      "cell_type": "code",
      "metadata": {
        "id": "QBiBrRDRD3NY",
        "colab_type": "code",
        "colab": {}
      },
      "source": [
        "import numpy as np\n",
        "import pickle\n",
        "import re\n",
        "import csv\n",
        "import os\n",
        "from sudachipy import tokenizer\n",
        "from sudachipy import dictionary\n",
        "\n",
        "class Sudachi_w2v:\n",
        "    def __init__(self, path, sudachiDataPath=\"sudachiData.pickle\"):\n",
        "        f = open(path, 'r')\n",
        "        self.file = f\n",
        "        self.reader = csv.reader(f, delimiter=' ')\n",
        "        #最初に含有単語リストやメモリアドレスリストを作成する（かなり時間かかる）\n",
        "        #2回目以降はpickle化したものを読み込む\n",
        "        if os.path.exists(sudachiDataPath):\n",
        "            with open(sudachiDataPath, 'rb') as f:\n",
        "                dataset = pickle.load(f)\n",
        "            self.offset_list = dataset[\"offset_list\"]\n",
        "            self.emb_size = dataset[\"emb_size\"]\n",
        "            self.word2index = dataset[\"word2index\"]\n",
        "            self.ave_vec = dataset[\"ave_vec\"]\n",
        "        else:\n",
        "            txt = f.readline()\n",
        "            #分散表現の次元数\n",
        "            self.emb_size = int(txt.split()[1])\n",
        "            #未知語が来た場合平均ベクトルを返す\n",
        "            self.ave_vec = np.zeros(self.emb_size, np.float)\n",
        "            #メモリアドレスリスト\n",
        "            self.offset_list = []\n",
        "            word_list = []\n",
        "            count = 0\n",
        "            maxCount = int(txt.split()[0])\n",
        "            while True:\n",
        "                count+=1\n",
        "                self.offset_list.append(f.tell())\n",
        "                if count % 100000 == 0:print(count,\"/\",maxCount)\n",
        "                line = f.readline()\n",
        "                if line == '':break\n",
        "                line_list = line.split()\n",
        "                word_list.append(line_list[0])\n",
        "                self.ave_vec += np.array(line_list[-300:]).astype(np.float)\n",
        "            self.offset_list.pop()\n",
        "            self.ave_vec = self.ave_vec/count\n",
        "            self.word2index = {v:k for k,v in enumerate(word_list)}\n",
        "\n",
        "            dataset = {}\n",
        "            dataset[\"offset_list\"] = self.offset_list\n",
        "            dataset[\"emb_size\"] = self.emb_size\n",
        "            dataset[\"word2index\"] = self.word2index\n",
        "            dataset[\"ave_vec\"] = self.ave_vec\n",
        "            with open(sudachiDataPath, 'wb') as f:\n",
        "                pickle.dump(dataset, f)\n",
        "\n",
        "        self.num_rows = len(self.offset_list)\n",
        "        #sudachiの準備\n",
        "        self.tokenizer_obj = dictionary.Dictionary().create()\n",
        "        self.mode = tokenizer.Tokenizer.SplitMode.C\n",
        "\n",
        "    #単語をベクトル化\n",
        "    def word2vec(self, word):\n",
        "        try:\n",
        "            idx = self.word2index[word]\n",
        "            result = self.read_row(idx)\n",
        "            vec = np.array(result[-300:])\n",
        "            return vec\n",
        "        except:#単語リストにない場合\n",
        "            print(word, \": out of wordlist\")\n",
        "\n",
        "    #文章を分かち書きした後，それぞれのベクトルをmatでまとめて返す\n",
        "    def sentence2mat(self, sentence):\n",
        "        words = sentence.replace(\"　\",\" \").replace(\"\\n\",\" \")\n",
        "        words = re.sub(r\"\\s+\", \" \", words)\n",
        "        input_seq = [m.surface().lower() for m in self.tokenizer_obj.tokenize(words, self.mode)]\n",
        "        input_seq = [s for s in input_seq if s != ' ']\n",
        "\n",
        "        mat = np.zeros((len(input_seq), self.emb_size))\n",
        "        input_sentence = []\n",
        "        for i, word in enumerate(input_seq):\n",
        "            try:\n",
        "                idx = self.word2index[word]\n",
        "                result = self.read_row(idx)\n",
        "                input_sentence.append(result[0])\n",
        "                mat[i] = np.array(result[-300:])\n",
        "            except:#単語リストにない場合平均ベクトルを返す\n",
        "                input_sentence.append(\"<UNK>\")\n",
        "                mat[i] = self.ave_vec\n",
        "        return input_sentence, mat\n",
        "\n",
        "    def __del__(self):\n",
        "        self.file.close()\n",
        "\n",
        "    def read_row(self, idx):\n",
        "        self.file.seek(self.offset_list[idx])\n",
        "        return next(self.reader)"
      ],
      "execution_count": 0,
      "outputs": []
    },
    {
      "cell_type": "code",
      "metadata": {
        "id": "s40xdU-fNjd0",
        "colab_type": "code",
        "colab": {}
      },
      "source": [
        "path = '/content/nwjc_sudachi_full_abc_w2v/nwjc.sudachi_full_abc_w2v.txt'\n",
        "sudachi = Sudachi_w2v(path)"
      ],
      "execution_count": 0,
      "outputs": []
    },
    {
      "cell_type": "code",
      "metadata": {
        "id": "RIaiRyQJN1dF",
        "colab_type": "code",
        "colab": {
          "base_uri": "https://localhost:8080/",
          "height": 1000
        },
        "outputId": "78b86d9b-9cae-47a4-9fde-c835942f44ee"
      },
      "source": [
        "vec = sudachi.word2vec(\"すだち\")\n",
        "print(vec)\n",
        "#['0.07975651' '0.08931299' '-0.06070593' '0.46959993' '0.19651023' ~\n",
        "\n",
        "input_sentence, mat = sudachi.sentence2mat(\"あきらめたらそこで試合終了だよ\")\n",
        "print(input_sentence)\n",
        "print(mat)\n",
        "#(['あきらめ', 'たら', 'そこ', 'で', '試合終了', 'だ', 'よ'], array([[ 1.9788130e-02,  1.1190426e-01, -1.6153505e-01, ...,\n",
        "\n",
        "input_sentence, mat = sudachi.sentence2mat(\"AIってなんだろ？\")\n",
        "print(input_sentence)\n",
        "print(mat)\n"
      ],
      "execution_count": 16,
      "outputs": [
        {
          "output_type": "stream",
          "text": [
            "['0.07975651' '0.08931299' '-0.06070593' '0.46959993' '0.19651023'\n",
            " '0.05610859' '-0.24515596' '-0.30732957' '0.08137251' '-0.45044619'\n",
            " '0.11408115' '-0.05047991' '-0.06369073' '-0.30423751' '-0.05283662'\n",
            " '-0.12789412' '-0.08447175' '0.18121149' '0.07306494' '-0.34626028'\n",
            " '-0.23872021' '-0.22532608' '0.08475439' '0.03715251' '-0.11880537'\n",
            " '-0.16653691' '0.01077076' '0.21094765' '-0.14410816' '-0.05907292'\n",
            " '-0.17079048' '-0.10630048' '0.42154697' '0.19493569' '0.05778833'\n",
            " '-0.02867538' '-0.03691955' '0.2445851' '-0.41814491' '-0.01401133'\n",
            " '-0.26229978' '0.01251183' '0.02726642' '0.03536683' '0.0740893'\n",
            " '-0.36967111' '-0.02937168' '-0.29803264' '-0.1353' '-0.03620005'\n",
            " '-0.03665653' '0.28185824' '-0.43465024' '0.09290418' '-0.15962832'\n",
            " '0.07909478' '-0.28243098' '0.15427014' '0.07028364' '0.12094842'\n",
            " '-0.47612959' '-0.26188281' '0.14339833' '-0.0164896' '0.07793605'\n",
            " '-0.00731504' '0.17469509' '-0.15381725' '-0.13285433' '-0.1341684'\n",
            " '0.04934204' '0.21530381' '0.23320644' '0.15411495' '-0.24004021'\n",
            " '-0.04620761' '0.03344756' '-0.13144277' '0.36512908' '-0.5571239'\n",
            " '0.19584525' '-0.32911375' '0.0629566' '0.40625867' '-0.01923595'\n",
            " '0.12287421' '0.20897959' '-0.06208971' '0.09295254' '-0.33890557'\n",
            " '-0.0923139' '-0.06070544' '-0.09161726' '-0.17094445' '0.24801715'\n",
            " '0.09594408' '-0.31094295' '-0.00474983' '-0.39243993' '0.15494236'\n",
            " '-0.00496398' '-0.13054043' '-0.0876583' '-0.24810243' '0.24849211'\n",
            " '-0.17154075' '0.06673684' '-0.22999027' '-0.08762806' '-0.40768477'\n",
            " '-0.14659101' '-0.0635557' '-0.01272814' '0.03661253' '-0.03063532'\n",
            " '-0.34358081' '-0.10154661' '0.36907634' '0.22948423' '0.40980124'\n",
            " '0.16310428' '0.47320509' '0.00355317' '0.16705757' '-0.19843571'\n",
            " '-0.32916367' '-0.02034257' '-0.03096159' '0.34596914' '0.04439804'\n",
            " '-0.13259932' '-0.00186787' '0.21151268' '0.46019861' '0.08535816'\n",
            " '-0.08260082' '-0.29107535' '-0.03001559' '0.07463861' '-0.58637971'\n",
            " '0.06491832' '0.04438635' '-0.23118103' '-0.13796774' '-0.26933914'\n",
            " '0.11685578' '-0.31350666' '0.00911882' '-0.03004162' '-0.27017877'\n",
            " '0.20311108' '-0.04519269' '-0.01703226' '0.20009273' '0.04351101'\n",
            " '0.00711553' '0.29856461' '0.21018283' '-0.25719997' '0.08368536'\n",
            " '0.26417002' '-0.05507835' '0.22284244' '0.51862264' '-0.02627659'\n",
            " '0.29434052' '0.21207531' '-0.2200827' '-0.06822317' '0.14165665'\n",
            " '-0.18797596' '0.17842487' '0.12941259' '0.27513763' '-0.28754282'\n",
            " '0.03991137' '-0.11928147' '-0.25917128' '-0.41696772' '-0.3605642'\n",
            " '0.43941677' '0.41162044' '0.09626097' '-0.09480351' '-0.04971128'\n",
            " '0.10983077' '0.0640354' '0.24152958' '-0.21554002' '-0.16094129'\n",
            " '-0.15480983' '0.02550261' '0.11217774' '-0.00020458' '-0.23626611'\n",
            " '-0.03369806' '-0.14891756' '0.22623025' '0.14862375' '0.00486917'\n",
            " '0.0573009' '-0.35285631' '0.0590729' '0.25954893' '-0.04130873'\n",
            " '-0.27067521' '-0.08455187' '0.30835459' '-0.00281244' '0.06880397'\n",
            " '-0.14057225' '0.31121448' '-0.2984935' '0.37654319' '0.01858091'\n",
            " '-0.10473202' '-0.15542275' '0.20330113' '-0.01005984' '0.10618861'\n",
            " '-0.01644043' '-0.44425723' '-0.39045379' '-0.27473974' '-0.0326154'\n",
            " '0.03830701' '0.01340265' '0.04506588' '0.05446617' '-0.01510258'\n",
            " '0.26117271' '-0.08339015' '0.24436373' '0.05089737' '0.08444486'\n",
            " '-0.07448161' '0.34127286' '0.20135604' '0.05892342' '0.47376311'\n",
            " '0.09170622' '0.17630456' '-0.37551492' '-0.23875876' '0.26258022'\n",
            " '0.09375019' '0.03125152' '0.0101753' '0.26882702' '-0.13510025'\n",
            " '-0.06488872' '0.05311816' '0.64873451' '0.10416729' '-0.08905053'\n",
            " '-0.12856929' '0.21207863' '0.35808021' '0.11152904' '-0.3552838'\n",
            " '0.422589' '0.1983152' '0.03048727' '0.18855754' '0.04676974'\n",
            " '0.10918406' '0.15985718' '-0.1256859' '-0.05619365' '-0.39819574'\n",
            " '0.05643777' '-0.17419976' '0.04997354' '-0.23938084' '-0.12859413'\n",
            " '0.35981739' '-0.20851314' '-0.24854931' '0.05331674' '0.16879465'\n",
            " '-0.05202848' '-0.08759774' '0.03462567' '-0.02822548' '-0.432924'\n",
            " '-0.21439807' '0.14176281' '-2.78e-06' '-0.25479022' '-0.12000927'\n",
            " '-0.01211096' '0.32106739' '-0.22018574' '0.22278669' '0.18646024'\n",
            " '-0.314044' '-0.0352994' '-0.09008396' '-0.22513974' '0.01000475']\n",
            "['あきらめ', 'たら', 'そこ', 'で', '試合', '終了', 'だ', 'よ']\n",
            "[[ 1.9788130e-02  1.1190426e-01 -1.6153505e-01 ...  1.2991369e-01\n",
            "  -6.8510160e-02  1.9570000e-03]\n",
            " [ 2.7046860e-02  7.5201280e-02 -1.1507778e-01 ...  2.5585878e-01\n",
            "  -2.2782610e-02  1.9772920e-01]\n",
            " [-4.5452040e-02 -1.4514430e-02 -2.6648690e-02 ...  5.4555300e-03\n",
            "  -2.1425570e-02  2.1801083e-01]\n",
            " ...\n",
            " [-5.6729730e-02  4.0799212e-01 -2.2207350e-01 ...  1.5880656e-01\n",
            "   3.4612140e-02  2.5882240e-02]\n",
            " [-5.1770340e-02 -6.1236340e-02 -1.4982690e-02 ...  1.3257496e-01\n",
            "  -6.4513920e-02  2.6015675e-01]\n",
            " [ 1.7429000e-04  9.7546200e-03 -1.3105920e-01 ...  1.4957811e-01\n",
            "  -3.2147040e-02  1.4192612e-01]]\n",
            "['ai', 'って', 'なん', 'だろ', '<UNK>']\n",
            "[[ 0.11989793  0.07972154 -0.26867044 ...  0.00160107  0.03451492\n",
            "   0.18664911]\n",
            " [ 0.01608907 -0.01244953 -0.09973235 ...  0.10492382  0.01355885\n",
            "   0.15827598]\n",
            " [-0.05392339  0.01193848 -0.06444567 ...  0.00887881  0.0391611\n",
            "   0.20730476]\n",
            " [-0.0134467  -0.07802089 -0.16893728 ...  0.19906412  0.07197681\n",
            "   0.08413269]\n",
            " [ 0.0788366   0.15917544 -0.11576747 ... -0.06621352 -0.06329174\n",
            "   0.06992752]]\n"
          ],
          "name": "stdout"
        }
      ]
    },
    {
      "cell_type": "code",
      "metadata": {
        "id": "jsd5wNLgRDgE",
        "colab_type": "code",
        "colab": {}
      },
      "source": [
        ""
      ],
      "execution_count": 0,
      "outputs": []
    }
  ]
}