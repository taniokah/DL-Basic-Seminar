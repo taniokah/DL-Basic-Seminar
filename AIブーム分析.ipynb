{
  "nbformat": 4,
  "nbformat_minor": 0,
  "metadata": {
    "colab": {
      "name": "AIブーム分析.ipynb",
      "provenance": [],
      "toc_visible": true,
      "machine_shape": "hm",
      "authorship_tag": "ABX9TyPfQvEIw396TJ3A1Gvgylu7",
      "include_colab_link": true
    },
    "kernelspec": {
      "name": "python3",
      "display_name": "Python 3"
    }
  },
  "cells": [
    {
      "cell_type": "markdown",
      "metadata": {
        "id": "view-in-github",
        "colab_type": "text"
      },
      "source": [
        "<a href=\"https://colab.research.google.com/github/taniokah/DL-Basic-Seminar/blob/master/AI%E3%83%96%E3%83%BC%E3%83%A0%E5%88%86%E6%9E%90.ipynb\" target=\"_parent\"><img src=\"https://colab.research.google.com/assets/colab-badge.svg\" alt=\"Open In Colab\"/></a>"
      ]
    },
    {
      "cell_type": "markdown",
      "metadata": {
        "id": "5bXkqkqAhMmh",
        "colab_type": "text"
      },
      "source": [
        "#AIブーム分析\n",
        "\n",
        "https://ohke.hateblo.jp/entry/2019/06/01/120000\n",
        "https://qiita.com/a2kiti/items/a93d762bd89a84316c12\n",
        "\n",
        "1. まず、Sudachiのword2vecモデルをダウンロードする\n",
        "2. 対象となる新聞記事を読み込む\n",
        "3. 新聞記事からAIに近い単語を上位10個ずつ抽出する\n",
        "4. 単語ベクトルとその頻度のリストを作る\n",
        "5. 時系列トピックモデルを用いて分析する\n"
      ]
    },
    {
      "cell_type": "code",
      "metadata": {
        "id": "pPhrofy5f4XO",
        "colab_type": "code",
        "colab": {
          "base_uri": "https://localhost:8080/",
          "height": 224
        },
        "outputId": "9e7ef609-6f2c-4c7c-d091-2172808fac10"
      },
      "source": [
        "!wget https://object-storage.tyo2.conoha.io/v1/nc_2520839e1f9641b08211a5c85243124a/word_vector/nwjc.sudachi_full_abc_w2v.20190314.tar.gz"
      ],
      "execution_count": 1,
      "outputs": [
        {
          "output_type": "stream",
          "text": [
            "--2020-01-28 10:50:54--  https://object-storage.tyo2.conoha.io/v1/nc_2520839e1f9641b08211a5c85243124a/word_vector/nwjc.sudachi_full_abc_w2v.20190314.tar.gz\n",
            "Resolving object-storage.tyo2.conoha.io (object-storage.tyo2.conoha.io)... 157.7.224.17\n",
            "Connecting to object-storage.tyo2.conoha.io (object-storage.tyo2.conoha.io)|157.7.224.17|:443... connected.\n",
            "HTTP request sent, awaiting response... 200 OK\n",
            "Length: 5212195768 (4.9G) [application/x-www-form-urlencoded]\n",
            "Saving to: ‘nwjc.sudachi_full_abc_w2v.20190314.tar.gz’\n",
            "\n",
            "nwjc.sudachi_full_a 100%[===================>]   4.85G  19.1MB/s    in 4m 27s  \n",
            "\n",
            "2020-01-28 10:55:22 (18.6 MB/s) - ‘nwjc.sudachi_full_abc_w2v.20190314.tar.gz’ saved [5212195768/5212195768]\n",
            "\n"
          ],
          "name": "stdout"
        }
      ]
    },
    {
      "cell_type": "code",
      "metadata": {
        "id": "-vQfLut0gCk4",
        "colab_type": "code",
        "colab": {
          "base_uri": "https://localhost:8080/",
          "height": 68
        },
        "outputId": "dc5193cc-b82e-4e1d-8514-6700f25e6541"
      },
      "source": [
        "!tar -zxvf ./nwjc.sudachi_full_abc_w2v.20190314.tar.gz"
      ],
      "execution_count": 2,
      "outputs": [
        {
          "output_type": "stream",
          "text": [
            "nwjc_sudachi_full_abc_w2v/\n",
            "nwjc_sudachi_full_abc_w2v/nwjc.sudachi_full_abc_w2v.txt\n",
            "nwjc_sudachi_full_abc_w2v/LICENSE\n"
          ],
          "name": "stdout"
        }
      ]
    },
    {
      "cell_type": "code",
      "metadata": {
        "id": "wh5yAlj-gPCF",
        "colab_type": "code",
        "colab": {
          "base_uri": "https://localhost:8080/",
          "height": 68
        },
        "outputId": "4da1b954-69b9-44f6-a118-e5fc1ac4f473"
      },
      "source": [
        "!ls -l nwjc_sudachi_full_abc_w2v/"
      ],
      "execution_count": 3,
      "outputs": [
        {
          "output_type": "stream",
          "text": [
            "total 12229548\n",
            "-rw-rw-r-- 1 1008 1008       11420 Mar 20  2019 LICENSE\n",
            "-rw-rw-r-- 1 1008 1008 12523039651 Mar 20  2019 nwjc.sudachi_full_abc_w2v.txt\n"
          ],
          "name": "stdout"
        }
      ]
    },
    {
      "cell_type": "code",
      "metadata": {
        "id": "SY_mN-IshE7n",
        "colab_type": "code",
        "colab": {
          "base_uri": "https://localhost:8080/",
          "height": 71
        },
        "outputId": "6dec41f2-b7dc-443a-93be-cb280ebad497"
      },
      "source": [
        "!head -n2 nwjc_sudachi_full_abc_w2v/nwjc.sudachi_full_abc_w2v.txt"
      ],
      "execution_count": 4,
      "outputs": [
        {
          "output_type": "stream",
          "text": [
            "3644628 300\n",
            "の -0.08509623 -0.02170456 -0.00595318 0.17987297 -0.02470185 -0.06039717 0.16489118 0.18576832 -0.13870764 -0.17454691 0.08653757 -0.11530939 -0.0357993 0.0308698 -0.11082912 0.04128339 0.00738431 0.00342017 -0.00673456 0.03348965 -0.18876095 0.05184764 0.13508447 0.24196455 -0.07351201 -0.07903086 -0.01973874 -0.24246444 0.03141621 -0.11729659 -0.04126292 -0.20383213 -0.03109288 0.06765312 -0.15020953 -0.11498244 0.03988069 0.20287995 -0.14308368 -0.05135961 -0.15592268 0.05364651 -0.11668575 0.0505892 -0.04575419 0.03296537 -0.03033004 -0.0481239 0.13578212 -0.03111291 -0.15257519 -0.10075521 -0.07440718 -0.12524064 -0.14464405 -0.00155862 0.11825287 0.01658496 0.27135071 -0.07724451 0.01130517 0.03584538 0.01659033 0.19819288 0.01558947 0.07239497 -0.05149494 0.08688559 -0.03712051 -0.07294089 -0.00820937 -0.00907754 -0.03328617 -0.09273465 0.07537545 -0.05137397 0.07578564 -0.03124459 0.05484971 -0.07136369 -0.02457538 0.15481928 0.11072636 -0.00225826 -0.04312619 -0.09835435 0.10180111 -0.11248083 -0.01831779 -0.15895568 0.06585996 0.06583007 -0.02607597 0.07505219 -0.08154492 0.08415596 -0.29794207 0.22361974 0.03844924 -0.02409133 -0.0380278 0.05453932 -0.10982726 0.10995556 0.11009834 0.04420403 -0.05088469 0.06004704 0.01410721 0.10482296 -0.34675267 0.11893709 0.08400187 0.17349045 0.07026103 0.02319975 -0.07899326 -0.09765992 0.03738321 0.10687834 -0.13417427 0.15635394 0.07292477 0.09719512 -0.04300312 0.03135416 0.25681239 0.07999622 -0.10297124 -0.0881549 0.065386 -0.04746811 0.02169232 0.17451568 -0.06795947 -0.30644616 -0.06507952 0.13956924 0.18511888 -0.1142631 0.04402548 0.03508638 -0.12334315 0.00233285 -0.14110087 -0.26152349 -0.12575777 0.10243788 0.03307959 0.08372588 0.2012478 0.02123618 0.0598808 -0.12974231 0.01239459 -0.0255327 -0.11687197 -0.19145888 -0.10097241 0.01828799 0.16954349 -0.18916406 -0.02960817 0.16373363 -0.08409271 0.10939084 -0.10946602 -0.10229198 0.00907564 0.16076608 -0.19279352 0.00508998 -0.0759033 0.01311471 0.1166984 0.24017371 0.06020693 0.00122038 -0.17049754 -0.01034435 -0.09591749 0.2055098 -0.07516637 -0.10714629 -0.17098667 -0.02943251 0.05814891 0.06983829 0.00748073 -0.06156648 0.05453764 -0.07840106 0.1749652 0.25106817 -0.06903429 -0.27245611 0.00350698 0.14503795 -0.06646442 0.0329436 -0.02063798 0.04743206 0.18886574 0.02028349 -0.10190877 -0.18188755 0.27589551 -0.00080682 0.0066181 -0.08410311 -0.25576827 0.07407854 -0.05438402 0.18853284 0.08088059 0.08862372 -0.0970456 0.03529922 0.05947638 0.09120731 0.1907116 0.03028401 -0.06710273 -0.11471934 -0.13359009 0.00544884 -0.01073137 -0.01462306 -0.08237646 0.02719796 0.02005923 -0.11376375 0.18927906 0.0539184 0.11428301 -0.11349536 0.13334441 0.01524157 -0.00129609 0.12784146 -0.06973457 0.01259846 -0.1185156 0.14096615 0.07976481 -0.06855894 0.06703436 -0.15839098 0.07836515 0.05997906 -0.01760146 -0.04950007 0.11396813 0.03565592 0.04952743 0.00099573 0.0437855 0.01601827 0.15287897 -0.08865725 0.04313564 0.13215388 0.01210132 -0.05744287 0.04421859 0.2098541 -0.19167227 -0.16390941 -0.00657649 -0.07565701 -0.13576873 -0.11283566 -0.13851033 0.05974858 -0.16010183 -0.01187299 0.08090579 0.13298063 0.03606028 0.25641844 0.07958484 -0.09526003 0.08859847 -0.1579143 0.09659959 -0.02905053 0.00727161 -0.02406846 -0.03045797 -0.02122181 0.02056854 0.09185477 -0.10587828 -0.06060067 0.07496267 -0.14777204 0.10103506 0.01632762 -0.03348994 0.17903616\n"
          ],
          "name": "stdout"
        }
      ]
    },
    {
      "cell_type": "code",
      "metadata": {
        "id": "cMUauoB2iY3H",
        "colab_type": "code",
        "colab": {}
      },
      "source": [
        "#!pip install gensim"
      ],
      "execution_count": 0,
      "outputs": []
    },
    {
      "cell_type": "code",
      "metadata": {
        "id": "oOeM-Xsuh44b",
        "colab_type": "code",
        "colab": {
          "base_uri": "https://localhost:8080/",
          "height": 88
        },
        "outputId": "89cbe4f6-ac5a-45c2-a4d4-4707fc6053ab"
      },
      "source": [
        "# モデルのロード\n",
        "from gensim.models import KeyedVectors\n",
        "from gensim.test.utils import datapath\n",
        "\n",
        "nwjc_model = KeyedVectors.load_word2vec_format('/content/nwjc_sudachi_full_abc_w2v/nwjc.sudachi_full_abc_w2v.txt', binary=False)\n",
        "\n",
        "#nwjc_model = KeyedVectors.load_word2vec_format(\n",
        "#    datapath('/content/nwjc_sudachi_full_abc_w2v/nwjc.sudachi_full_abc_w2v.txt'),\n",
        "#    binary=False\n",
        "#)\n",
        "\n",
        "# 語数, 次元数\n",
        "print(len(nwjc_model.vocab), nwjc_model.vector_size)  # 3644628 300"
      ],
      "execution_count": 6,
      "outputs": [
        {
          "output_type": "stream",
          "text": [
            "/usr/local/lib/python3.6/dist-packages/smart_open/smart_open_lib.py:402: UserWarning: This function is deprecated, use smart_open.open instead. See the migration notes for details: https://github.com/RaRe-Technologies/smart_open/blob/master/README.rst#migrating-to-the-new-open-function\n",
            "  'See the migration notes for details: %s' % _MIGRATION_NOTES_URL\n"
          ],
          "name": "stderr"
        },
        {
          "output_type": "stream",
          "text": [
            "3644628 300\n"
          ],
          "name": "stdout"
        }
      ]
    },
    {
      "cell_type": "code",
      "metadata": {
        "id": "d3vnxWCZorA5",
        "colab_type": "code",
        "colab": {
          "base_uri": "https://localhost:8080/",
          "height": 105
        },
        "outputId": "3d9fd963-a9be-475e-89e5-345305722b3d"
      },
      "source": [
        "print(nwjc_model.most_similar('平成', topn=5))\n",
        "# [('年度', 0.8092531561851501),\n",
        "#  ('平成元年', 0.7409119009971619),\n",
        "#  ('同年', 0.6042426824569702),\n",
        "#  ('基本計画', 0.5917632579803467),\n",
        "#  ('別紙', 0.590812087059021)]\n",
        "\n",
        "print(nwjc_model.most_similar(positive=['兄弟', '女'], negative=['男'], topn=5))\n",
        "# [('姉妹', 0.7687463164329529),\n",
        "#  ('兄妹', 0.7484474182128906),\n",
        "#  ('姉弟', 0.715774416923523),\n",
        "#  ('双子', 0.642593264579773),\n",
        "#  ('妹', 0.6402267217636108)]"
      ],
      "execution_count": 7,
      "outputs": [
        {
          "output_type": "stream",
          "text": [
            "/usr/local/lib/python3.6/dist-packages/gensim/matutils.py:737: FutureWarning: Conversion of the second argument of issubdtype from `int` to `np.signedinteger` is deprecated. In future, it will be treated as `np.int64 == np.dtype(int).type`.\n",
            "  if np.issubdtype(vec.dtype, np.int):\n"
          ],
          "name": "stderr"
        },
        {
          "output_type": "stream",
          "text": [
            "[('年度', 0.8092531561851501), ('平成元年', 0.7409119009971619), ('同年', 0.6042426824569702), ('基本計画', 0.5917632579803467), ('別紙', 0.590812087059021)]\n",
            "[('姉妹', 0.7687463164329529), ('兄妹', 0.7484474182128906), ('姉弟', 0.715774416923523), ('双子', 0.642593264579773), ('妹', 0.6402267217636108)]\n"
          ],
          "name": "stdout"
        }
      ]
    },
    {
      "cell_type": "code",
      "metadata": {
        "id": "scJPEOW4owN9",
        "colab_type": "code",
        "colab": {}
      },
      "source": [
        ""
      ],
      "execution_count": 0,
      "outputs": []
    }
  ]
}